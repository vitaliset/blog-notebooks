{
 "cells": [
  {
   "cell_type": "code",
   "execution_count": 1,
   "id": "c7f18427",
   "metadata": {},
   "outputs": [],
   "source": [
    "import numpy as np\n",
    "import pandas as pd\n",
    "import matplotlib.pyplot as plt"
   ]
  },
  {
   "cell_type": "markdown",
   "id": "96904154",
   "metadata": {},
   "source": [
    "# Hyperparameter search with threshold-dependent metrics\n",
    "\n",
    "In a binary classification problem, you probably shouldn't ever use the `.predict` method from scikit-learn (and consequently from libraries that follow [its design pattern](https://scikit-learn.org/stable/developers/develop.html)). In scikit-learn, the implementation of `.predict`, in general, follows the logic [implemented](https://github.com/scikit-learn/scikit-learn/blob/98cf537f5c538fdbc9d27b851cf03ce7611b8a48/sklearn/ensemble/_forest.py#L800-L837) for [`sklearn.ensemble.RandomForestClassifier`](https://scikit-learn.org/stable/modules/generated/sklearn.ensemble.RandomForestClassifier.html):\n",
    "\n",
    "```python\n",
    "def predict(self, X):\n",
    "    ...\n",
    "    proba = self.predict_proba(X)\n",
    "    ...\n",
    "    return self.classes_.take(np.argmax(proba, axis=1), axis=0)\n",
    "```\n",
    "\n",
    "In the case where we only have two classes (0 or 1), the `.predict`, when picking the class with the highest \"probability\", is equivalent to the rule \" if `.predict_proba > 0.5`, then predict `1`; otherwise, predict `0`\". That is, under the hood, we are using a threshold of `0.5` without having visibility.\n",
    "\n",
    "Up to now, nothing new. However, I will show in an example how this can be harmful to superficial analyzes that don't take this into account."
   ]
  },
  {
   "cell_type": "markdown",
   "id": "e2fddf99",
   "metadata": {},
   "source": [
    "___\n",
    "\n",
    "## Optimizing f1 in a naive way\n",
    "\n",
    "To exemplify this issue, I will use a dataset from [imbalanced-learn](https://imbalanced-learn.org/stable/), a library with several implementations of techniques that deal with imbalanced problems, from the [scikit-learn-contrib](https://github.com/scikit-learn-contrib) environment. And let's build a model that ideally has the best possible [`sklearn.metrics.f1_score`](https://scikit-learn.org/stable/modules/generated/sklearn.metrics.f1_score.html)."
   ]
  },
  {
   "cell_type": "code",
   "execution_count": 2,
   "id": "8fff1217",
   "metadata": {},
   "outputs": [
    {
     "name": "stdout",
     "output_type": "stream",
     "text": [
      "Percentage of y=1 is 5.966%.\n",
      "Number of rows is 9822.\n"
     ]
    }
   ],
   "source": [
    "from imblearn.datasets import fetch_datasets\n",
    "\n",
    "dataset = fetch_datasets()[\"coil_2000\"]\n",
    "X, y = dataset.data, (dataset.target==1).astype(int)\n",
    "\n",
    "print(f\"Percentage of y=1 is {np.round(y.mean(), 5)*100}%.\")\n",
    "print(f\"Number of rows is {X.shape[0]}.\")"
   ]
  },
  {
   "cell_type": "markdown",
   "id": "a3458a79",
   "metadata": {},
   "source": [
    "I'm going to divide the dataset (taking care of the stratification because we are in an unbalanced problem) into a part for training the model, a second for choosing the threshold, and a last one for validation. We will not be dealing with the second part for now, but I will show some ways of optimizing the threshold that will need this extra set."
   ]
  },
  {
   "cell_type": "code",
   "execution_count": 3,
   "id": "f791ef07",
   "metadata": {},
   "outputs": [],
   "source": [
    "from sklearn.model_selection import train_test_split\n",
    "\n",
    "X_train_model, X_test, y_train_model, y_test = train_test_split(X, y, random_state=0, stratify=y)\n",
    "X_train_model, X_train_threshold, y_train_model, y_train_threshold = \\\n",
    "train_test_split(X_train_model, y_train_model, random_state=0, stratify=y_train_model)"
   ]
  },
  {
   "cell_type": "markdown",
   "id": "edd33368",
   "metadata": {},
   "source": [
    "Suppose we want to optimize the hypermeters of a [`sklearn.ensemble.RandomForestClassifier`](https://scikit-learn.org/stable/modules/generated/sklearn.ensemble.RandomForestClassifier.html) getting the best possible [`sklearn.metrics.f1_score`](https://scikit-learn.org/stable/modules/generated/sklearn.metrics.f1_score.html) (as we anticipated just now).\n",
    "\n",
    "I'm going to create an auxiliary function to run this search for hypermeters because we're going to do this sometimes (using a [`sklearn.model_selection.GridSearchCV`](https://scikit-learn.org/stable/modules/generated/sklearn.model_selection.GridSearchCV.html), but it could be any other way to search for hypermeters)."
   ]
  },
  {
   "cell_type": "code",
   "execution_count": 4,
   "id": "2295d5cd",
   "metadata": {},
   "outputs": [],
   "source": [
    "from sklearn.model_selection import StratifiedKFold\n",
    "\n",
    "params = {\n",
    "    \"max_depth\": [2, 4, 10, None],\n",
    "    \"n_estimators\": [10, 50, 100],\n",
    "}\n",
    "\n",
    "skfold = StratifiedKFold(n_splits=3,\n",
    "                         shuffle=True,\n",
    "                         random_state=0)"
   ]
  },
  {
   "cell_type": "code",
   "execution_count": 5,
   "id": "2efd5980",
   "metadata": {},
   "outputs": [],
   "source": [
    "from sklearn.model_selection import GridSearchCV\n",
    "from sklearn.ensemble import RandomForestClassifier\n",
    "\n",
    "def run_experiment(estimator, scoring, X, y, params, cv):\n",
    "    gscv = (\n",
    "        GridSearchCV(estimator=estimator,\n",
    "                     param_grid=params,\n",
    "                     scoring=scoring,\n",
    "                     cv=cv)\n",
    "        .fit(X, y)\n",
    "    )\n",
    "\n",
    "    return (\n",
    "        pd.DataFrame(gscv.cv_results_)\n",
    "        .pipe(lambda df:\n",
    "              df[list(map(lambda x: \"param_\" + x,  params.keys())) + [\"mean_test_score\", \"std_test_score\"]])\n",
    "    )"
   ]
  },
  {
   "cell_type": "markdown",
   "id": "c6b94ee8",
   "metadata": {},
   "source": [
    "With this auxiliary function built, we run our search trying to optimize `scoring=\"f1\"`."
   ]
  },
  {
   "cell_type": "code",
   "execution_count": 6,
   "id": "101a0a7f",
   "metadata": {},
   "outputs": [
    {
     "data": {
      "text/html": [
       "<div>\n",
       "<style scoped>\n",
       "    .dataframe tbody tr th:only-of-type {\n",
       "        vertical-align: middle;\n",
       "    }\n",
       "\n",
       "    .dataframe tbody tr th {\n",
       "        vertical-align: top;\n",
       "    }\n",
       "\n",
       "    .dataframe thead th {\n",
       "        text-align: right;\n",
       "    }\n",
       "</style>\n",
       "<table border=\"1\" class=\"dataframe\">\n",
       "  <thead>\n",
       "    <tr style=\"text-align: right;\">\n",
       "      <th></th>\n",
       "      <th>param_max_depth</th>\n",
       "      <th>param_n_estimators</th>\n",
       "      <th>mean_test_score</th>\n",
       "      <th>std_test_score</th>\n",
       "    </tr>\n",
       "  </thead>\n",
       "  <tbody>\n",
       "    <tr>\n",
       "      <th>0</th>\n",
       "      <td>2</td>\n",
       "      <td>10</td>\n",
       "      <td>0.000000</td>\n",
       "      <td>0.000000</td>\n",
       "    </tr>\n",
       "    <tr>\n",
       "      <th>1</th>\n",
       "      <td>2</td>\n",
       "      <td>50</td>\n",
       "      <td>0.000000</td>\n",
       "      <td>0.000000</td>\n",
       "    </tr>\n",
       "    <tr>\n",
       "      <th>2</th>\n",
       "      <td>2</td>\n",
       "      <td>100</td>\n",
       "      <td>0.000000</td>\n",
       "      <td>0.000000</td>\n",
       "    </tr>\n",
       "    <tr>\n",
       "      <th>3</th>\n",
       "      <td>4</td>\n",
       "      <td>10</td>\n",
       "      <td>0.000000</td>\n",
       "      <td>0.000000</td>\n",
       "    </tr>\n",
       "    <tr>\n",
       "      <th>4</th>\n",
       "      <td>4</td>\n",
       "      <td>50</td>\n",
       "      <td>0.000000</td>\n",
       "      <td>0.000000</td>\n",
       "    </tr>\n",
       "    <tr>\n",
       "      <th>5</th>\n",
       "      <td>4</td>\n",
       "      <td>100</td>\n",
       "      <td>0.000000</td>\n",
       "      <td>0.000000</td>\n",
       "    </tr>\n",
       "    <tr>\n",
       "      <th>6</th>\n",
       "      <td>10</td>\n",
       "      <td>10</td>\n",
       "      <td>0.059510</td>\n",
       "      <td>0.039552</td>\n",
       "    </tr>\n",
       "    <tr>\n",
       "      <th>7</th>\n",
       "      <td>10</td>\n",
       "      <td>50</td>\n",
       "      <td>0.040333</td>\n",
       "      <td>0.016119</td>\n",
       "    </tr>\n",
       "    <tr>\n",
       "      <th>8</th>\n",
       "      <td>10</td>\n",
       "      <td>100</td>\n",
       "      <td>0.034938</td>\n",
       "      <td>0.014265</td>\n",
       "    </tr>\n",
       "    <tr>\n",
       "      <th>9</th>\n",
       "      <td>None</td>\n",
       "      <td>10</td>\n",
       "      <td>0.097418</td>\n",
       "      <td>0.007834</td>\n",
       "    </tr>\n",
       "    <tr>\n",
       "      <th>10</th>\n",
       "      <td>None</td>\n",
       "      <td>50</td>\n",
       "      <td>0.105050</td>\n",
       "      <td>0.022298</td>\n",
       "    </tr>\n",
       "    <tr>\n",
       "      <th>11</th>\n",
       "      <td>None</td>\n",
       "      <td>100</td>\n",
       "      <td>0.096360</td>\n",
       "      <td>0.016211</td>\n",
       "    </tr>\n",
       "  </tbody>\n",
       "</table>\n",
       "</div>"
      ],
      "text/plain": [
       "   param_max_depth param_n_estimators  mean_test_score  std_test_score\n",
       "0                2                 10         0.000000        0.000000\n",
       "1                2                 50         0.000000        0.000000\n",
       "2                2                100         0.000000        0.000000\n",
       "3                4                 10         0.000000        0.000000\n",
       "4                4                 50         0.000000        0.000000\n",
       "5                4                100         0.000000        0.000000\n",
       "6               10                 10         0.059510        0.039552\n",
       "7               10                 50         0.040333        0.016119\n",
       "8               10                100         0.034938        0.014265\n",
       "9             None                 10         0.097418        0.007834\n",
       "10            None                 50         0.105050        0.022298\n",
       "11            None                100         0.096360        0.016211"
      ]
     },
     "execution_count": 6,
     "metadata": {},
     "output_type": "execute_result"
    }
   ],
   "source": [
    "run_experiment(estimator=RandomForestClassifier(random_state=0),\n",
    "               scoring=\"f1\", X=X_train_model, y=y_train_model, params=params, cv=skfold)"
   ]
  },
  {
   "cell_type": "markdown",
   "id": "d84cb0a1",
   "metadata": {},
   "source": [
    "Some combinations of hypermeters seem to have an [`sklearn.metrics.f1_score`](https://scikit-learn.org/stable/modules/generated/sklearn.metrics.f1_score.html) of 0. Weird.\n",
    "\n",
    "This happens because as [`sklearn.metrics.f1_score`](https://scikit-learn.org/stable/modules/generated/sklearn.metrics.f1_score.html) is a threshold-dependent metric (in the sense that it needs hard predictions instead of predicted probabilities), scikit-learn understands that it needs to use `.predict` instead of `.predict_proba` (and consequently \"uses the threshold of `0.5`\", as we discussed the equivalence earlier)."
   ]
  },
  {
   "cell_type": "markdown",
   "id": "735b3040",
   "metadata": {},
   "source": [
    "In our case, the problem is imbalanced, so a threshold of `0.5` is extremely suboptimal. We will have a considerable accumulation of `.predict_proba` close to 0 in almost any model, and probably a threshold closer to `0` in our problem seems more reasonable."
   ]
  },
  {
   "cell_type": "code",
   "execution_count": 7,
   "id": "2dfbb6e5",
   "metadata": {
    "scrolled": true
   },
   "outputs": [
    {
     "data": {
      "image/png": "[encoded data removed]",
      "text/plain": [
       "<Figure size 900x250 with 3 Axes>"
      ]
     },
     "metadata": {},
     "output_type": "display_data"
    }
   ],
   "source": [
    "from collections import Counter\n",
    "out_of_the_box_model = RandomForestClassifier(random_state=0).fit(X_train_model, y_train_model)\n",
    "\n",
    "predict_proba = out_of_the_box_model.predict_proba(X_train_threshold)[:, 1]\n",
    "predict = out_of_the_box_model.predict(X_train_threshold)\n",
    "\n",
    "# Just to check ;)\n",
    "assert ((predict_proba > 0.5).astype(int) == predict).all()\n",
    "\n",
    "fig, ax = plt.subplots(ncols=3, figsize=(9, 2.5))\n",
    "\n",
    "for axis in ax[:2]:\n",
    "    axis.hist(predict_proba, bins=np.linspace(0, 1, 26))\n",
    "    axis.set_title(\"Histogram of .predict_proba(X)\", fontsize=10)\n",
    "ax[1].set_yscale(\"log\")\n",
    "\n",
    "for values, label in zip([predict, y_test], [\".predict(X)\", \"y\"]):\n",
    "    count = Counter(values)\n",
    "    ax[2].bar(count.keys(), count.values(), label=label, alpha=0.5)\n",
    "ax[2].set_xticks([0, 1])\n",
    "ax[2].set_yscale(\"log\")\n",
    "ax[2].set_title(\"Count of 0's and 1's\", fontsize=10)\n",
    "ax[2].legend(fontsize=7)\n",
    "\n",
    "plt.tight_layout()"
   ]
  },
  {
   "cell_type": "markdown",
   "id": "6bb0ae95",
   "metadata": {},
   "source": [
    "Very few examples pass the `0.5` threshold, a significantly lower amount than the actual number of class 1 samples. This tells us that a softer threshold (less than `0.5`) makes more sense in this problem.\n",
    "\n",
    "This is often the case in imbalanced learning scenarios. For instance, if you have 1% of people with some disease in your population and your model predicts that this person has a 10% chance of having that disease, then chances are that you should treat him as someone with a high likelihood of being ill."
   ]
  },
  {
   "cell_type": "markdown",
   "id": "898d513d",
   "metadata": {},
   "source": [
    "___\n",
    "\n",
    "## Tunning the threshold\n",
    "\n",
    "To find the optimal threshold, we can [bootstrap](https://hastie.su.domains/ISLR2/ISLRv2_website.pdf) a set separate from the one used in training to find the best threshold for that model by optimizing some metric (threshold-dependent) of interest, such as, in our case, [`sklearn.metrics.f1_score`](https://scikit-learn.org/stable/modules/generated/sklearn.metrics.f1_score.html)."
   ]
  },
  {
   "cell_type": "code",
   "execution_count": 8,
   "id": "2562799f",
   "metadata": {},
   "outputs": [],
   "source": [
    "from tqdm import tqdm\n",
    "\n",
    "def optmize_threshold_metric(model, X, y, metric, threshold_grid):\n",
    "    metric_means, metric_stds = [], []\n",
    "    for t in tqdm(threshold_grid):\n",
    "        metrics = []\n",
    "        for i in range(20):\n",
    "            ind_bootstrap = np.random.RandomState(i).choice(len(y), len(y), replace=True)\n",
    "            metric_val = metric(y[ind_bootstrap],\n",
    "                          (model.predict_proba(X[ind_bootstrap])[:, 1] > t).astype(int))\n",
    "            metrics.append(metric_val)\n",
    "        metric_means.append(np.mean(metrics))\n",
    "        metric_stds.append(np.std(metrics))\n",
    "\n",
    "    metric_means, metric_stds = np.array(metric_means), np.array(metric_stds)\n",
    "    best_threshold = threshold_grid[np.argmax(metric_means)]\n",
    "\n",
    "    return metric_means, metric_stds, best_threshold"
   ]
  },
  {
   "cell_type": "markdown",
   "id": "2f25bf9c",
   "metadata": {},
   "source": [
    "$\\oint$ _Here we are directly choosing the threshold that, on average, has the best metric value of interest, but there are other possibilities [[1](#bibliography)]. We could, for example, play with the \"confidence interval\" (which, in this case, I'm just plotting to give an order of magnitude of the variance), optimizing for the upper or lower limit, or even use the threshold that maximizes [Youden's J statistic](https://en.wikipedia.org/wiki/Youden%27s_J_statistic) (which is equivalent to taking the threshold that gives the most significant separation of the KS curves between the `.predict_proba(X[y==0])` and `.predict_proba(X[y==1])`._\n"
   ]
  },
  {
   "cell_type": "code",
   "execution_count": 9,
   "id": "a9b1a42f",
   "metadata": {},
   "outputs": [
    {
     "name": "stderr",
     "output_type": "stream",
     "text": [
      "100%|██████████| 101/101 [01:49<00:00,  1.09s/it]\n"
     ]
    },
    {
     "data": {
      "image/png": "[encoded data removed]",
      "text/plain": [
       "<Figure size 500x250 with 1 Axes>"
      ]
     },
     "metadata": {},
     "output_type": "display_data"
    }
   ],
   "source": [
    "threshold_grid = np.linspace(0, 1, 101)\n",
    "from sklearn.metrics import f1_score\n",
    "\n",
    "f1_means_ootb, f1_stds_ootb, best_threshold_ootb = \\\n",
    "optmize_threshold_metric(out_of_the_box_model, X_train_threshold, y_train_threshold, f1_score, threshold_grid)\n",
    "\n",
    "fig, ax = plt.subplots(figsize=(5, 2.5))\n",
    "ax.plot(threshold_grid, f1_means_ootb)\n",
    "ax.fill_between(threshold_grid, f1_means_ootb - 1.96 * f1_stds_ootb, f1_means_ootb + 1.96 * f1_stds_ootb, alpha=0.5)\n",
    "ax.vlines(best_threshold_ootb, min(f1_means_ootb - 1.96 * f1_stds_ootb), max(f1_means_ootb + 1.96 * f1_stds_ootb), \"k\", label=\"Chosen threshold\")\n",
    "ax.set_xticks(np.linspace(0, 1, 11))\n",
    "ax.set_xlabel(\"Threshold\")\n",
    "ax.set_ylabel(\"f1_score\")\n",
    "ax.legend()\n",
    "plt.tight_layout()"
   ]
  },
  {
   "cell_type": "markdown",
   "id": "2f1d05af",
   "metadata": {},
   "source": [
    "With the threshold chosen through optimization, we ended up with a much better [`sklearn.metrics.f1_score`](https://scikit-learn.org/stable/modules/generated/sklearn.metrics.f1_score.html) than the previous one, in which we used a threshold of `0.5`."
   ]
  },
  {
   "cell_type": "code",
   "execution_count": 10,
   "id": "8dc9e62b",
   "metadata": {},
   "outputs": [
    {
     "data": {
      "text/plain": [
       "0.1878453038674033"
      ]
     },
     "execution_count": 10,
     "metadata": {},
     "output_type": "execute_result"
    }
   ],
   "source": [
    "f1_score(y_test, (out_of_the_box_model.predict_proba(X_test)[:, 1] > best_threshold_ootb).astype(int))"
   ]
  },
  {
   "cell_type": "code",
   "execution_count": 11,
   "id": "58e55764",
   "metadata": {},
   "outputs": [
    {
     "data": {
      "text/plain": [
       "0.043478260869565216"
      ]
     },
     "execution_count": 11,
     "metadata": {},
     "output_type": "execute_result"
    }
   ],
   "source": [
    "f1_score(y_test, out_of_the_box_model.predict(X_test))"
   ]
  },
  {
   "cell_type": "markdown",
   "id": "56f54823",
   "metadata": {},
   "source": [
    "___\n",
    "\n",
    "## Back to hyperparameters search\n",
    "\n",
    "But what to do now? How can we get around this if optimizing the [`sklearn.metrics.f1_score`](https://scikit-learn.org/stable/modules/generated/sklearn.metrics.f1_score.html) directly doesn't look like a good idea since scikit-learn will use `.predict`?\n",
    "\n",
    "### Optimizing what works and is related\n",
    "\n",
    "The most applied way in the market is, even if you are interested in the threshold-dependent metric, to use a threshold-independent metric to do this optimization and only, in the end, use something like `optmize_threshold_metric` to optimize the metric of genuine interest.\n",
    "\n",
    "$\\oint$ _This sounds sub-optimal, but we do this all the time in Machine Learning. Even if you're interested in optimizing [`sklearn.metrics.roc_auc_score`](https://scikit-learn.org/stable/modules/generated/sklearn.metrics.roc_auc_score.html) on a credit default classification problem, your [`sklearn.ensemble.RandomForestClassifier`](https://scikit-learn.org/stable/modules/generated/sklearn.ensemble.RandomForestClassifier.html) will be optimizing for `criterion=\"gini\"` or something related to [`sklearn.metrics.roc_auc_score`](https://scikit-learn.org/stable/modules/generated/sklearn.metrics.roc_auc_score.html), but that is different. Here the idea is the same. Optimizing for [`sklearn.metrics.roc_auc_score`](https://scikit-learn.org/stable/modules/generated/sklearn.metrics.roc_auc_score.html) or [`sklearn.metrics.average_precision_score`](https://scikit-learn.org/stable/modules/generated/sklearn.metrics.average_precision_score.html) is not the same as optimizing for [`sklearn.metrics.f1_score`](https://scikit-learn.org/stable/modules/generated/sklearn.metrics.f1_score.html), for example, but models that are good at the former will be good at the latter too._"
   ]
  },
  {
   "cell_type": "code",
   "execution_count": 12,
   "id": "bafb9157",
   "metadata": {},
   "outputs": [
    {
     "data": {
      "text/html": [
       "<div>\n",
       "<style scoped>\n",
       "    .dataframe tbody tr th:only-of-type {\n",
       "        vertical-align: middle;\n",
       "    }\n",
       "\n",
       "    .dataframe tbody tr th {\n",
       "        vertical-align: top;\n",
       "    }\n",
       "\n",
       "    .dataframe thead th {\n",
       "        text-align: right;\n",
       "    }\n",
       "</style>\n",
       "<table border=\"1\" class=\"dataframe\">\n",
       "  <thead>\n",
       "    <tr style=\"text-align: right;\">\n",
       "      <th></th>\n",
       "      <th>param_max_depth</th>\n",
       "      <th>param_n_estimators</th>\n",
       "      <th>mean_test_score</th>\n",
       "      <th>std_test_score</th>\n",
       "    </tr>\n",
       "  </thead>\n",
       "  <tbody>\n",
       "    <tr>\n",
       "      <th>0</th>\n",
       "      <td>2</td>\n",
       "      <td>10</td>\n",
       "      <td>0.719377</td>\n",
       "      <td>0.008165</td>\n",
       "    </tr>\n",
       "    <tr>\n",
       "      <th>1</th>\n",
       "      <td>2</td>\n",
       "      <td>50</td>\n",
       "      <td>0.746675</td>\n",
       "      <td>0.007476</td>\n",
       "    </tr>\n",
       "    <tr>\n",
       "      <th>2</th>\n",
       "      <td>2</td>\n",
       "      <td>100</td>\n",
       "      <td>0.742196</td>\n",
       "      <td>0.007105</td>\n",
       "    </tr>\n",
       "    <tr>\n",
       "      <th>3</th>\n",
       "      <td>4</td>\n",
       "      <td>10</td>\n",
       "      <td>0.733715</td>\n",
       "      <td>0.013691</td>\n",
       "    </tr>\n",
       "    <tr>\n",
       "      <th>4</th>\n",
       "      <td>4</td>\n",
       "      <td>50</td>\n",
       "      <td>0.744482</td>\n",
       "      <td>0.010491</td>\n",
       "    </tr>\n",
       "    <tr>\n",
       "      <th>5</th>\n",
       "      <td>4</td>\n",
       "      <td>100</td>\n",
       "      <td>0.747113</td>\n",
       "      <td>0.007466</td>\n",
       "    </tr>\n",
       "    <tr>\n",
       "      <th>6</th>\n",
       "      <td>10</td>\n",
       "      <td>10</td>\n",
       "      <td>0.695511</td>\n",
       "      <td>0.018646</td>\n",
       "    </tr>\n",
       "    <tr>\n",
       "      <th>7</th>\n",
       "      <td>10</td>\n",
       "      <td>50</td>\n",
       "      <td>0.703767</td>\n",
       "      <td>0.019845</td>\n",
       "    </tr>\n",
       "    <tr>\n",
       "      <th>8</th>\n",
       "      <td>10</td>\n",
       "      <td>100</td>\n",
       "      <td>0.708600</td>\n",
       "      <td>0.022674</td>\n",
       "    </tr>\n",
       "    <tr>\n",
       "      <th>9</th>\n",
       "      <td>None</td>\n",
       "      <td>10</td>\n",
       "      <td>0.652099</td>\n",
       "      <td>0.031056</td>\n",
       "    </tr>\n",
       "    <tr>\n",
       "      <th>10</th>\n",
       "      <td>None</td>\n",
       "      <td>50</td>\n",
       "      <td>0.682542</td>\n",
       "      <td>0.017131</td>\n",
       "    </tr>\n",
       "    <tr>\n",
       "      <th>11</th>\n",
       "      <td>None</td>\n",
       "      <td>100</td>\n",
       "      <td>0.685519</td>\n",
       "      <td>0.020818</td>\n",
       "    </tr>\n",
       "  </tbody>\n",
       "</table>\n",
       "</div>"
      ],
      "text/plain": [
       "   param_max_depth param_n_estimators  mean_test_score  std_test_score\n",
       "0                2                 10         0.719377        0.008165\n",
       "1                2                 50         0.746675        0.007476\n",
       "2                2                100         0.742196        0.007105\n",
       "3                4                 10         0.733715        0.013691\n",
       "4                4                 50         0.744482        0.010491\n",
       "5                4                100         0.747113        0.007466\n",
       "6               10                 10         0.695511        0.018646\n",
       "7               10                 50         0.703767        0.019845\n",
       "8               10                100         0.708600        0.022674\n",
       "9             None                 10         0.652099        0.031056\n",
       "10            None                 50         0.682542        0.017131\n",
       "11            None                100         0.685519        0.020818"
      ]
     },
     "execution_count": 12,
     "metadata": {},
     "output_type": "execute_result"
    }
   ],
   "source": [
    "run_experiment(estimator=RandomForestClassifier(random_state=0),\n",
    "               scoring=\"roc_auc\", X=X_train_model, y=y_train_model, params=params, cv=skfold)"
   ]
  },
  {
   "cell_type": "markdown",
   "id": "61c2f129",
   "metadata": {},
   "source": [
    "### Leak the threshold search\n",
    "\n",
    "But what if we want to explicitly optimize our interest metric within the grid search for some reason? In that case, we need to make a workaround. A reasonable proxy of how your model will perform when you optimize the threshold is to optimize the threshold on your test set. In this case, as you will choose the threshold that will optimize the metric in the validation set, your metric will be the best possible, and you can directly take the `max` or the `min`."
   ]
  },
  {
   "cell_type": "code",
   "execution_count": 13,
   "id": "71db0728",
   "metadata": {},
   "outputs": [],
   "source": [
    "from sklearn.metrics import make_scorer\n",
    "\n",
    "def make_threshold_independent(metric, threshold_grid=np.linspace(0, 1, 101), greater_is_better=True):\n",
    "    opt_fun = {True: max, False: min}\n",
    "    opt = opt_fun[greater_is_better]\n",
    "    def threshold_independent_metric(y_true, y_pred, *args, **kwargs):\n",
    "        return opt([metric(y_true, (y_pred > t).astype(int), *args, **kwargs) for t in threshold_grid])\n",
    "    return threshold_independent_metric\n",
    "\n",
    "f1_threshold_independent_score = make_threshold_independent(f1_score)\n",
    "f1_threshold_independent_scorer = make_scorer(f1_threshold_independent_score, needs_proba=True)"
   ]
  },
  {
   "cell_type": "markdown",
   "id": "9967c779",
   "metadata": {},
   "source": [
    "As this is a metric independent of the threshold, because we passed `needs_proba=True`, we will no longer have the problem of scikit-learn using `.predict`."
   ]
  },
  {
   "cell_type": "code",
   "execution_count": 14,
   "id": "8af0d783",
   "metadata": {},
   "outputs": [
    {
     "data": {
      "text/html": [
       "<div>\n",
       "<style scoped>\n",
       "    .dataframe tbody tr th:only-of-type {\n",
       "        vertical-align: middle;\n",
       "    }\n",
       "\n",
       "    .dataframe tbody tr th {\n",
       "        vertical-align: top;\n",
       "    }\n",
       "\n",
       "    .dataframe thead th {\n",
       "        text-align: right;\n",
       "    }\n",
       "</style>\n",
       "<table border=\"1\" class=\"dataframe\">\n",
       "  <thead>\n",
       "    <tr style=\"text-align: right;\">\n",
       "      <th></th>\n",
       "      <th>param_max_depth</th>\n",
       "      <th>param_n_estimators</th>\n",
       "      <th>mean_test_score</th>\n",
       "      <th>std_test_score</th>\n",
       "    </tr>\n",
       "  </thead>\n",
       "  <tbody>\n",
       "    <tr>\n",
       "      <th>0</th>\n",
       "      <td>2</td>\n",
       "      <td>10</td>\n",
       "      <td>0.253281</td>\n",
       "      <td>0.009199</td>\n",
       "    </tr>\n",
       "    <tr>\n",
       "      <th>1</th>\n",
       "      <td>2</td>\n",
       "      <td>50</td>\n",
       "      <td>0.267678</td>\n",
       "      <td>0.005953</td>\n",
       "    </tr>\n",
       "    <tr>\n",
       "      <th>2</th>\n",
       "      <td>2</td>\n",
       "      <td>100</td>\n",
       "      <td>0.257495</td>\n",
       "      <td>0.002502</td>\n",
       "    </tr>\n",
       "    <tr>\n",
       "      <th>3</th>\n",
       "      <td>4</td>\n",
       "      <td>10</td>\n",
       "      <td>0.241877</td>\n",
       "      <td>0.017142</td>\n",
       "    </tr>\n",
       "    <tr>\n",
       "      <th>4</th>\n",
       "      <td>4</td>\n",
       "      <td>50</td>\n",
       "      <td>0.257753</td>\n",
       "      <td>0.014293</td>\n",
       "    </tr>\n",
       "    <tr>\n",
       "      <th>5</th>\n",
       "      <td>4</td>\n",
       "      <td>100</td>\n",
       "      <td>0.263571</td>\n",
       "      <td>0.011393</td>\n",
       "    </tr>\n",
       "    <tr>\n",
       "      <th>6</th>\n",
       "      <td>10</td>\n",
       "      <td>10</td>\n",
       "      <td>0.202218</td>\n",
       "      <td>0.016497</td>\n",
       "    </tr>\n",
       "    <tr>\n",
       "      <th>7</th>\n",
       "      <td>10</td>\n",
       "      <td>50</td>\n",
       "      <td>0.225597</td>\n",
       "      <td>0.032149</td>\n",
       "    </tr>\n",
       "    <tr>\n",
       "      <th>8</th>\n",
       "      <td>10</td>\n",
       "      <td>100</td>\n",
       "      <td>0.230246</td>\n",
       "      <td>0.025504</td>\n",
       "    </tr>\n",
       "    <tr>\n",
       "      <th>9</th>\n",
       "      <td>None</td>\n",
       "      <td>10</td>\n",
       "      <td>0.181869</td>\n",
       "      <td>0.015010</td>\n",
       "    </tr>\n",
       "    <tr>\n",
       "      <th>10</th>\n",
       "      <td>None</td>\n",
       "      <td>50</td>\n",
       "      <td>0.213798</td>\n",
       "      <td>0.037220</td>\n",
       "    </tr>\n",
       "    <tr>\n",
       "      <th>11</th>\n",
       "      <td>None</td>\n",
       "      <td>100</td>\n",
       "      <td>0.209927</td>\n",
       "      <td>0.034730</td>\n",
       "    </tr>\n",
       "  </tbody>\n",
       "</table>\n",
       "</div>"
      ],
      "text/plain": [
       "   param_max_depth param_n_estimators  mean_test_score  std_test_score\n",
       "0                2                 10         0.253281        0.009199\n",
       "1                2                 50         0.267678        0.005953\n",
       "2                2                100         0.257495        0.002502\n",
       "3                4                 10         0.241877        0.017142\n",
       "4                4                 50         0.257753        0.014293\n",
       "5                4                100         0.263571        0.011393\n",
       "6               10                 10         0.202218        0.016497\n",
       "7               10                 50         0.225597        0.032149\n",
       "8               10                100         0.230246        0.025504\n",
       "9             None                 10         0.181869        0.015010\n",
       "10            None                 50         0.213798        0.037220\n",
       "11            None                100         0.209927        0.034730"
      ]
     },
     "execution_count": 14,
     "metadata": {},
     "output_type": "execute_result"
    }
   ],
   "source": [
    "df_best_f1 = run_experiment(estimator=RandomForestClassifier(random_state=0),\n",
    "                            scoring=f1_threshold_independent_scorer,\n",
    "                            X=X_train_model, y=y_train_model, params=params, cv=skfold)\n",
    "\n",
    "df_best_f1"
   ]
  },
  {
   "cell_type": "markdown",
   "id": "6593cb17",
   "metadata": {},
   "source": [
    "On the other hand, we are leaking our model and consequently overestimating our metric since we are choosing the best threshold in the cross-validation validation set.\n",
    "\n",
    "### Optimizing the threshold during gridsearch on a chunk of the training set\n",
    "\n",
    "A better way to do this is to modify our estimator's training function so that it also calculates the best threshold. A rough implementation of a class that does this is as follows:"
   ]
  },
  {
   "cell_type": "code",
   "execution_count": 15,
   "id": "4f76f316",
   "metadata": {},
   "outputs": [],
   "source": [
    "import inspect\n",
    "def dic_without_keys(dic, keys):\n",
    "    return {x: dic[x] for x in dic if x not in keys}\n",
    "\n",
    "class ThresholdOptimizerRandomForestBinaryClassifier(RandomForestClassifier):\n",
    "\n",
    "    def __init__(self, n_bootstrap=20, metric=f1_score, threshold_grid=np.linspace(0, 1, 101), *args, **kwargs,):\n",
    "\n",
    "        kwargs_without_extra = dic_without_keys(kwargs, (\"n_bootstrap\", \"metric\", \"threshold_grid\"))\n",
    "        super().__init__(*args, **kwargs_without_extra)\n",
    "        self.metric = metric\n",
    "        self.threshold_grid = threshold_grid\n",
    "        self.n_bootstrap = n_bootstrap\n",
    "\n",
    "    @classmethod\n",
    "    def _get_param_names(cls):\n",
    "        init = getattr(super().__init__, \"deprecated_original\", super().__init__)\n",
    "        init_signature = inspect.signature(init)\n",
    "        parameters = [p for p in init_signature.parameters.values() if p.name != \"self\" and p.kind != p.VAR_KEYWORD]\n",
    "        return sorted([p.name for p in parameters] + [\"n_bootstrap\", \"metric\", \"threshold_grid\"])\n",
    "\n",
    "    def fit(self, X, y, sample_weight=None):\n",
    "\n",
    "        X_train_model, X_train_threshold, y_train_model, y_train_threshold = \\\n",
    "        train_test_split(X, y, random_state=self.random_state, stratify=y)\n",
    "\n",
    "        super().fit(X_train_model, y_train_model, sample_weight=sample_weight)\n",
    "        _, _, self.best_threshold_ = self.optmize_threshold_metric(X_train_threshold, y_train_threshold)\n",
    "\n",
    "        return self\n",
    "\n",
    "    def optmize_threshold_metric(self, X, y):\n",
    "        metric_means, metric_stds = [], []\n",
    "        for t in self.threshold_grid:\n",
    "            metrics = []\n",
    "            for i in range(self.n_bootstrap):\n",
    "                ind_bootstrap = np.random.RandomState(i).choice(len(y), len(y), replace=True)\n",
    "                metric_val = self.metric(y[ind_bootstrap],\n",
    "                                         (self.predict_proba(X[ind_bootstrap])[:, 1] > t).astype(int))\n",
    "                metrics.append(metric_val)\n",
    "            metric_means.append(np.mean(metrics))\n",
    "            metric_stds.append(np.std(metrics))\n",
    "\n",
    "        metric_means, metric_stds = np.array(metric_means), np.array(metric_stds)\n",
    "        best_threshold = self.threshold_grid[np.argmax(metric_means)]\n",
    "\n",
    "        return metric_means, metric_stds, best_threshold\n",
    "\n",
    "    def predict(self, X):\n",
    "        preds = self.predict_proba(X)[:, 1]\n",
    "        return (preds > self.best_threshold_).astype(int)"
   ]
  },
  {
   "cell_type": "markdown",
   "id": "d942826a",
   "metadata": {},
   "source": [
    "$\\oint$ *[scikit-learn doesn't like you using `*args` and `**kwargs` on your estimator's `__init__`](https://scikit-learn.org/stable/developers/develop.html#instantiation) because of how they designed the way they deal with hyperparameter optimization. But as I didn't want my `__init__` to [look like this](https://github.com/vitaliset/blog-notebooks/blob/700ce6ed6f61952db3f54c2f149fda5fc36175e9/DataLab_Blog_Boruta_2022_09_05/shap_feature_importances_.py#L52-L71), I decided to change the [`_get_param_names`](https://github.com/scikit-learn/scikit-learn/blob/98cf537f5c538fdbc9d27b851cf03ce7611b8a48/sklearn/base.py#L122-L151) from the [`sklearn.base.BaseEstimator`](https://scikit-learn.org/stable/modules/generated/sklearn.base.BaseEstimator.html) to call only the parameters of the class I'm inheriting from (RandomForestClassifier, a.k.a. `super()`). If you want to design it properly, you should do [this](https://github.com/vitaliset/blog-notebooks/blob/700ce6ed6f61952db3f54c2f149fda5fc36175e9/DataLab_Blog_Boruta_2022_09_05/shap_feature_importances_.py#L52-L71).*"
   ]
  },
  {
   "cell_type": "markdown",
   "id": "48468206",
   "metadata": {},
   "source": [
    "We are basically using the same optimization function we had discussed earlier on the part of the set that is given in `.fit` by doing a [`sklearn.model_selection.train_test_split`](https://scikit-learn.org/stable/modules/generated/sklearn.model_selection.train_test_split.html). This implementation is computationally expensive, mainly because of bootstrap. So I lowered the number of bootstrap samples to make it faster."
   ]
  },
  {
   "cell_type": "code",
   "execution_count": 16,
   "id": "4698fa3c",
   "metadata": {},
   "outputs": [
    {
     "name": "stdout",
     "output_type": "stream",
     "text": [
      "CPU times: total: 5min 52s\n",
      "Wall time: 6min 9s\n"
     ]
    },
    {
     "data": {
      "text/html": [
       "<div>\n",
       "<style scoped>\n",
       "    .dataframe tbody tr th:only-of-type {\n",
       "        vertical-align: middle;\n",
       "    }\n",
       "\n",
       "    .dataframe tbody tr th {\n",
       "        vertical-align: top;\n",
       "    }\n",
       "\n",
       "    .dataframe thead th {\n",
       "        text-align: right;\n",
       "    }\n",
       "</style>\n",
       "<table border=\"1\" class=\"dataframe\">\n",
       "  <thead>\n",
       "    <tr style=\"text-align: right;\">\n",
       "      <th></th>\n",
       "      <th>param_max_depth</th>\n",
       "      <th>param_n_estimators</th>\n",
       "      <th>mean_test_score</th>\n",
       "      <th>std_test_score</th>\n",
       "    </tr>\n",
       "  </thead>\n",
       "  <tbody>\n",
       "    <tr>\n",
       "      <th>0</th>\n",
       "      <td>2</td>\n",
       "      <td>10</td>\n",
       "      <td>0.238970</td>\n",
       "      <td>0.011282</td>\n",
       "    </tr>\n",
       "    <tr>\n",
       "      <th>1</th>\n",
       "      <td>2</td>\n",
       "      <td>50</td>\n",
       "      <td>0.238447</td>\n",
       "      <td>0.016450</td>\n",
       "    </tr>\n",
       "    <tr>\n",
       "      <th>2</th>\n",
       "      <td>2</td>\n",
       "      <td>100</td>\n",
       "      <td>0.243230</td>\n",
       "      <td>0.022790</td>\n",
       "    </tr>\n",
       "    <tr>\n",
       "      <th>3</th>\n",
       "      <td>4</td>\n",
       "      <td>10</td>\n",
       "      <td>0.203598</td>\n",
       "      <td>0.039442</td>\n",
       "    </tr>\n",
       "    <tr>\n",
       "      <th>4</th>\n",
       "      <td>4</td>\n",
       "      <td>50</td>\n",
       "      <td>0.226371</td>\n",
       "      <td>0.023246</td>\n",
       "    </tr>\n",
       "    <tr>\n",
       "      <th>5</th>\n",
       "      <td>4</td>\n",
       "      <td>100</td>\n",
       "      <td>0.249048</td>\n",
       "      <td>0.007759</td>\n",
       "    </tr>\n",
       "    <tr>\n",
       "      <th>6</th>\n",
       "      <td>10</td>\n",
       "      <td>10</td>\n",
       "      <td>0.200635</td>\n",
       "      <td>0.034000</td>\n",
       "    </tr>\n",
       "    <tr>\n",
       "      <th>7</th>\n",
       "      <td>10</td>\n",
       "      <td>50</td>\n",
       "      <td>0.199724</td>\n",
       "      <td>0.050758</td>\n",
       "    </tr>\n",
       "    <tr>\n",
       "      <th>8</th>\n",
       "      <td>10</td>\n",
       "      <td>100</td>\n",
       "      <td>0.176026</td>\n",
       "      <td>0.042777</td>\n",
       "    </tr>\n",
       "    <tr>\n",
       "      <th>9</th>\n",
       "      <td>None</td>\n",
       "      <td>10</td>\n",
       "      <td>0.175387</td>\n",
       "      <td>0.015105</td>\n",
       "    </tr>\n",
       "    <tr>\n",
       "      <th>10</th>\n",
       "      <td>None</td>\n",
       "      <td>50</td>\n",
       "      <td>0.158617</td>\n",
       "      <td>0.015450</td>\n",
       "    </tr>\n",
       "    <tr>\n",
       "      <th>11</th>\n",
       "      <td>None</td>\n",
       "      <td>100</td>\n",
       "      <td>0.179195</td>\n",
       "      <td>0.036804</td>\n",
       "    </tr>\n",
       "  </tbody>\n",
       "</table>\n",
       "</div>"
      ],
      "text/plain": [
       "   param_max_depth param_n_estimators  mean_test_score  std_test_score\n",
       "0                2                 10         0.238970        0.011282\n",
       "1                2                 50         0.238447        0.016450\n",
       "2                2                100         0.243230        0.022790\n",
       "3                4                 10         0.203598        0.039442\n",
       "4                4                 50         0.226371        0.023246\n",
       "5                4                100         0.249048        0.007759\n",
       "6               10                 10         0.200635        0.034000\n",
       "7               10                 50         0.199724        0.050758\n",
       "8               10                100         0.176026        0.042777\n",
       "9             None                 10         0.175387        0.015105\n",
       "10            None                 50         0.158617        0.015450\n",
       "11            None                100         0.179195        0.036804"
      ]
     },
     "execution_count": 16,
     "metadata": {},
     "output_type": "execute_result"
    }
   ],
   "source": [
    "%%time\n",
    "\n",
    "df_best = run_experiment(\n",
    "    estimator=ThresholdOptimizerRandomForestBinaryClassifier(random_state=0, n_bootstrap=5,\n",
    "                                                             metric=f1_score, threshold_grid=threshold_grid),\n",
    "    scoring=\"f1\", X=X_train_model, y=y_train_model, params=params, cv=skfold)\n",
    "\n",
    "df_best"
   ]
  },
  {
   "cell_type": "markdown",
   "id": "13f8110f",
   "metadata": {},
   "source": [
    "___\n",
    "\n",
    "## Tunning the threshold for the best hyperparameters combination\n",
    "\n",
    "With this best combination of hyperparameters, we can do the procedure we discussed earlier to find the best threshold."
   ]
  },
  {
   "cell_type": "code",
   "execution_count": 17,
   "id": "afb4a4fc",
   "metadata": {},
   "outputs": [
    {
     "data": {
      "text/plain": [
       "{'max_depth': 4, 'n_estimators': 100}"
      ]
     },
     "execution_count": 17,
     "metadata": {},
     "output_type": "execute_result"
    }
   ],
   "source": [
    "best_params_values = df_best.sort_values(\"mean_test_score\", ascending=False).iloc[0][list(map(lambda x: \"param_\" + x,  params.keys()))].values\n",
    "best_params = dict(zip(params.keys(), best_params_values))\n",
    "best_params"
   ]
  },
  {
   "cell_type": "code",
   "execution_count": 18,
   "id": "659e6469",
   "metadata": {},
   "outputs": [],
   "source": [
    "best_model = (\n",
    "    RandomForestClassifier(random_state=0)\n",
    "    .set_params(**best_params)\n",
    "    .fit(X_train_model, y_train_model)\n",
    ")"
   ]
  },
  {
   "cell_type": "code",
   "execution_count": 19,
   "id": "e022cd65",
   "metadata": {},
   "outputs": [
    {
     "name": "stderr",
     "output_type": "stream",
     "text": [
      "100%|██████████| 101/101 [01:27<00:00,  1.15it/s]\n"
     ]
    },
    {
     "data": {
      "image/png": "[encoded data removed]",
      "text/plain": [
       "<Figure size 500x250 with 1 Axes>"
      ]
     },
     "metadata": {},
     "output_type": "display_data"
    }
   ],
   "source": [
    "f1_means_best, f1_stds_best, best_threshold_best = \\\n",
    "optmize_threshold_metric(best_model, X_train_threshold, y_train_threshold, f1_score, threshold_grid)\n",
    "\n",
    "fig, ax = plt.subplots(figsize=(5, 2.5))\n",
    "ax.plot(threshold_grid, f1_means_best)\n",
    "ax.fill_between(threshold_grid, f1_means_best - 1.96 * f1_stds_best, f1_means_best + 1.96 * f1_stds_best, alpha=0.5)\n",
    "ax.vlines(best_threshold_best, min(f1_means_best - 1.96 * f1_stds_best), max(f1_means_best + 1.96 * f1_stds_best), \"k\", label=\"Chosen threshold\")\n",
    "ax.set_xticks(np.linspace(0, 1, 11))\n",
    "ax.set_xlabel(\"Threshold\")\n",
    "ax.set_ylabel(\"f1_score\")\n",
    "ax.legend()\n",
    "plt.tight_layout()"
   ]
  },
  {
   "cell_type": "markdown",
   "id": "b5fb9cf0",
   "metadata": {},
   "source": [
    "Notice that we got a much better [`sklearn.metrics.f1_score`](https://scikit-learn.org/stable/modules/generated/sklearn.metrics.f1_score.html) than the initial search was telling us we would get!"
   ]
  },
  {
   "cell_type": "code",
   "execution_count": 20,
   "id": "5782eeac",
   "metadata": {},
   "outputs": [
    {
     "data": {
      "text/plain": [
       "0.24038461538461534"
      ]
     },
     "execution_count": 20,
     "metadata": {},
     "output_type": "execute_result"
    }
   ],
   "source": [
    "f1_score(y_test, (best_model.predict_proba(X_test)[:, 1] > best_threshold_best).astype(int))"
   ]
  },
  {
   "cell_type": "code",
   "execution_count": 21,
   "id": "fd297cdd",
   "metadata": {},
   "outputs": [
    {
     "data": {
      "text/plain": [
       "0.0"
      ]
     },
     "execution_count": 21,
     "metadata": {},
     "output_type": "execute_result"
    }
   ],
   "source": [
    "f1_score(y_test, best_model.predict(X_test))"
   ]
  },
  {
   "cell_type": "markdown",
   "id": "a3ba955c",
   "metadata": {},
   "source": [
    "___\n",
    "\n",
    "## Final considerations\n",
    "\n",
    "When optimizing hypermeters, be careful with threshold-dependent metrics and always prioritize the threshold-independent ones. If you need to use a threshold-dependent metric, look if `.predict` isn't messing up your comparison."
   ]
  },
  {
   "cell_type": "markdown",
   "id": "93b2626b",
   "metadata": {},
   "source": [
    "## <a name=\"bibliography\">Bibliography</a>\n",
    "\n",
    "[1] [A Gentle Introduction to Threshold-Moving for Imbalanced Classification by Jason Brownlee.](https://machinelearningmastery.com/threshold-moving-for-imbalanced-classification/)\n"
   ]
  }
 ],
 "metadata": {
  "kernelspec": {
   "display_name": "Python 3 (ipykernel)",
   "language": "python",
   "name": "python3"
  },
  "language_info": {
   "codemirror_mode": {
    "name": "ipython",
    "version": 3
   },
   "file_extension": ".py",
   "mimetype": "text/x-python",
   "name": "python",
   "nbconvert_exporter": "python",
   "pygments_lexer": "ipython3",
   "version": "3.9.6"
  }
 },
 "nbformat": 4,
 "nbformat_minor": 5
}
