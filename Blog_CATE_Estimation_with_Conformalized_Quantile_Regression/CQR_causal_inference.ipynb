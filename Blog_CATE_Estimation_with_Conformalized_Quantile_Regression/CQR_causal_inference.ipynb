{
 "cells": [
  {
   "cell_type": "markdown",
   "id": "f8800b93-f4d4-4c9a-8dfa-92820a0e6f59",
   "metadata": {},
   "source": [
    "# Conformal Quantile Regression with importance weighting for CATE"
   ]
  },
  {
   "cell_type": "code",
   "execution_count": 1,
   "id": "643917bf",
   "metadata": {},
   "outputs": [
    {
     "data": {
      "text/html": [
       "<div>\n",
       "<style scoped>\n",
       "    .dataframe tbody tr th:only-of-type {\n",
       "        vertical-align: middle;\n",
       "    }\n",
       "\n",
       "    .dataframe tbody tr th {\n",
       "        vertical-align: top;\n",
       "    }\n",
       "\n",
       "    .dataframe thead th {\n",
       "        text-align: right;\n",
       "    }\n",
       "</style>\n",
       "<table border=\"1\" class=\"dataframe\">\n",
       "  <thead>\n",
       "    <tr style=\"text-align: right;\">\n",
       "      <th></th>\n",
       "      <th>sex</th>\n",
       "      <th>age</th>\n",
       "      <th>severity</th>\n",
       "      <th>medication</th>\n",
       "      <th>recovery</th>\n",
       "    </tr>\n",
       "  </thead>\n",
       "  <tbody>\n",
       "    <tr>\n",
       "      <th>0</th>\n",
       "      <td>0</td>\n",
       "      <td>16.354103</td>\n",
       "      <td>0.047350</td>\n",
       "      <td>0.0</td>\n",
       "      <td>14</td>\n",
       "    </tr>\n",
       "    <tr>\n",
       "      <th>1</th>\n",
       "      <td>1</td>\n",
       "      <td>24.182983</td>\n",
       "      <td>0.099184</td>\n",
       "      <td>0.0</td>\n",
       "      <td>27</td>\n",
       "    </tr>\n",
       "    <tr>\n",
       "      <th>2</th>\n",
       "      <td>1</td>\n",
       "      <td>25.483159</td>\n",
       "      <td>0.349073</td>\n",
       "      <td>1.0</td>\n",
       "      <td>14</td>\n",
       "    </tr>\n",
       "  </tbody>\n",
       "</table>\n",
       "</div>"
      ],
      "text/plain": [
       "   sex        age  severity  medication  recovery\n",
       "0    0  16.354103  0.047350         0.0        14\n",
       "1    1  24.182983  0.099184         0.0        27\n",
       "2    1  25.483159  0.349073         1.0        14"
      ]
     },
     "execution_count": 1,
     "metadata": {},
     "output_type": "execute_result"
    }
   ],
   "source": [
    "import pandas as pd\n",
    "import numpy as np\n",
    "import matplotlib.pyplot as plt\n",
    "\n",
    "from data import make_confounded_data\n",
    "\n",
    "df_rnd, df_obs, df_cf = make_confounded_data(50_000)\n",
    "df_obs.head(3)"
   ]
  },
  {
   "cell_type": "code",
   "execution_count": 2,
   "id": "a2aeddd1",
   "metadata": {},
   "outputs": [],
   "source": [
    "from pgmpy.models import BayesianNetwork\n",
    "\n",
    "model = BayesianNetwork()\n",
    "model.add_nodes_from(list(df_obs.columns))\n",
    "model.add_edges_from(\n",
    "    [\n",
    "        (\"age\", \"severity\"),\n",
    "        (\"sex\", \"medication\"),\n",
    "        (\"age\", \"medication\"),\n",
    "        (\"age\", \"recovery\"),\n",
    "        (\"sex\", \"recovery\"),\n",
    "        (\"severity\", \"recovery\"),\n",
    "        (\"medication\", \"recovery\"),\n",
    "    ]\n",
    ")"
   ]
  },
  {
   "cell_type": "code",
   "execution_count": 3,
   "id": "7ded88c5",
   "metadata": {
    "tags": []
   },
   "outputs": [
    {
     "data": {
      "image/png": "[encoded data removed]",
      "text/plain": [
       "<Figure size 400x400 with 1 Axes>"
      ]
     },
     "metadata": {},
     "output_type": "display_data"
    }
   ],
   "source": [
    "import networkx as nx\n",
    "# import pylab as plt\n",
    "\n",
    "plt.figure(figsize=(4, 4))\n",
    "\n",
    "nx_graph = nx.DiGraph(model.edges())\n",
    "position_dicts = nx.shell_layout(nx_graph)\n",
    "\n",
    "nx.draw_networkx_edges(\n",
    "    nx_graph,\n",
    "    position_dicts,\n",
    "    edge_color=\"gray\",\n",
    "    node_size=1500,\n",
    "    alpha=0.6,\n",
    "    arrowstyle=\"-|>\",\n",
    "    arrowsize=15,\n",
    ")\n",
    "nx.draw_networkx_labels(nx_graph, position_dicts, font_size=7, font_color=\"black\")\n",
    "plt.show()"
   ]
  },
  {
   "cell_type": "code",
   "execution_count": 4,
   "id": "65bbda31",
   "metadata": {},
   "outputs": [],
   "source": [
    "from pgmpy.inference import CausalInference\n",
    "\n",
    "inference = CausalInference(model=model)\n",
    "\n",
    "proposed_backdoor_set = [\"sex\", \"age\", \"severity\"]\n",
    "\n",
    "assert inference.is_valid_backdoor_adjustment_set(\n",
    "    \"medication\", \"recovery\", proposed_backdoor_set\n",
    ")"
   ]
  },
  {
   "cell_type": "code",
   "execution_count": 5,
   "id": "a2382c64",
   "metadata": {},
   "outputs": [],
   "source": [
    "from sklearn.ensemble import RandomForestClassifier, HistGradientBoostingClassifier\n",
    "from sklearn.model_selection import GridSearchCV, KFold\n",
    "from sklearn.model_selection import train_test_split\n",
    "\n",
    "def return_XZ_y(df, backdoor_set_list):\n",
    "    return df.filter(backdoor_set_list), np.array(df.recovery)"
   ]
  },
  {
   "cell_type": "code",
   "execution_count": 6,
   "id": "0b609820-ec46-4241-bdb9-a35cfd0c2b33",
   "metadata": {},
   "outputs": [],
   "source": [
    "df_train, df_test = train_test_split(\n",
    "    df_obs.assign(recovery_cf=df_cf.recovery),\n",
    "    test_size=0.2,\n",
    "    random_state=42,\n",
    ")\n",
    "\n",
    "XZ_train_med0, y_train_med0 = return_XZ_y(df_train.query(\"medication == 0\"), proposed_backdoor_set)\n",
    "XZ_train_med1, y_train_med1 = return_XZ_y(df_train.query(\"medication == 1\"), proposed_backdoor_set)\n",
    "\n",
    "XZ_test, y_test = return_XZ_y(df_test, proposed_backdoor_set)"
   ]
  },
  {
   "cell_type": "code",
   "execution_count": 7,
   "id": "dc7f13d5",
   "metadata": {},
   "outputs": [],
   "source": [
    "from sklearn.base import BaseEstimator\n",
    "from sklearn.ensemble import HistGradientBoostingRegressor\n",
    "from statsmodels.stats.weightstats import DescrStatsW\n",
    "\n",
    "class ConformalizedQuantileRegression(BaseEstimator):\n",
    "    def __init__(self, alpha=0.1, calibration_size=0.3, random_state=42):\n",
    "        self.alpha = alpha\n",
    "        self.calibration_size = calibration_size\n",
    "        self.random_state = random_state\n",
    "    \n",
    "    def _return_quantile_model(self, quantile):\n",
    "        return GridSearchCV(\n",
    "                estimator=HistGradientBoostingRegressor(random_state=self.random_state, loss='quantile', quantile=quantile),\n",
    "                cv=KFold(shuffle=True, random_state=self.random_state),\n",
    "                param_grid={\"max_depth\": [2, 5, 10, None]},\n",
    "                scoring=\"neg_mean_squared_error\",\n",
    "                n_jobs=-1\n",
    "        )\n",
    "    \n",
    "    def fit(self, X, y, sample_weight=None):\n",
    "        if sample_weight is not None:\n",
    "            X_train, X_cal, y_train, y_cal, sample_weight_train, sample_weight_cal = train_test_split(\n",
    "                X, y, sample_weight, test_size=self.calibration_size, random_state=self.random_state)\n",
    "        else:\n",
    "            sample_weight_train, sample_weight_cal = None, None\n",
    "            X_train, X_cal, y_train, y_cal = train_test_split(\n",
    "                X, y, test_size=self.calibration_size, random_state=self.random_state)\n",
    "\n",
    "        self.model_lower_ = self._return_quantile_model(quantile=self.alpha/2).fit(X_train, y_train, sample_weight=sample_weight_train)\n",
    "        self.model_upper_ = self._return_quantile_model(quantile=1 - self.alpha/2).fit(X_train, y_train, sample_weight=sample_weight_train)\n",
    "        \n",
    "        self.y_cal_conformity_scores_ = np.maximum(\n",
    "            self.model_lower_.predict(X_cal) - y_cal, \n",
    "            y_cal - self.model_upper_.predict(X_cal))\n",
    "        wq = DescrStatsW(data=self.y_cal_conformity_scores_, weights=sample_weight_cal)\n",
    "        self.quantile_conformity_scores_ = wq.quantile(probs=1 - self.alpha, return_pandas=False)[0]\n",
    "        \n",
    "        return self\n",
    "\n",
    "    def predict(self, X):\n",
    "        y_test_interval_pred_cqr = np.column_stack(\n",
    "            [self.model_lower_.predict(X) - self.quantile_conformity_scores_,\n",
    "             self.model_upper_.predict(X) + self.quantile_conformity_scores_])\n",
    "        return y_test_interval_pred_cqr"
   ]
  },
  {
   "cell_type": "code",
   "execution_count": 8,
   "id": "28d1fac1-6d59-4aab-895d-4f8d5444432f",
   "metadata": {},
   "outputs": [],
   "source": [
    "df_ood_med0 = pd.concat(\n",
    "    [df.assign(train_or_test=i) for i, df in enumerate([XZ_train_med0, df_test.drop(columns=[\"medication\", \"recovery\", \"recovery_cf\"])])]\n",
    ")\n",
    "\n",
    "\n",
    "df_ood_med1 = pd.concat(\n",
    "    [df.assign(train_or_test=i) for i, df in enumerate([XZ_train_med1, df_test.drop(columns=[\"medication\", \"recovery\", \"recovery_cf\"])])]\n",
    ")"
   ]
  },
  {
   "cell_type": "code",
   "execution_count": 9,
   "id": "d663b7e5-44f7-4c08-9582-5fc59be9eacf",
   "metadata": {},
   "outputs": [
    {
     "data": {
      "text/plain": [
       "0.7558747980263515"
      ]
     },
     "execution_count": 9,
     "metadata": {},
     "output_type": "execute_result"
    }
   ],
   "source": [
    "from sklearn.linear_model import LogisticRegression\n",
    "from sklearn.metrics import roc_auc_score\n",
    "\n",
    "ood_sample_correction_med0 = LogisticRegression(\n",
    "    random_state=42,\n",
    ").fit(df_ood_med0.drop(columns=[\"train_or_test\"]),\n",
    "      df_ood_med0.train_or_test)\n",
    "\n",
    "roc_auc_score(df_ood_med0.train_or_test,\n",
    "              ood_sample_correction_med0.predict_proba(df_ood_med0.drop(columns=[\"train_or_test\"]))[:, 1])"
   ]
  },
  {
   "cell_type": "code",
   "execution_count": 10,
   "id": "770c133b-10fb-4e3f-a07e-5b7cbc113d3e",
   "metadata": {},
   "outputs": [
    {
     "data": {
      "text/plain": [
       "0.7237887275594934"
      ]
     },
     "execution_count": 10,
     "metadata": {},
     "output_type": "execute_result"
    }
   ],
   "source": [
    "ood_sample_correction_med1 = LogisticRegression(\n",
    "    random_state=42,\n",
    ").fit(df_ood_med1.drop(columns=[\"train_or_test\"]),\n",
    "      df_ood_med1.train_or_test)\n",
    "\n",
    "roc_auc_score(df_ood_med1.train_or_test,\n",
    "              ood_sample_correction_med1.predict_proba(df_ood_med1.drop(columns=[\"train_or_test\"]))[:, 1])"
   ]
  },
  {
   "cell_type": "code",
   "execution_count": 19,
   "id": "dfe17034-4abe-4ede-94dc-c7c8a7b04dbe",
   "metadata": {},
   "outputs": [
    {
     "data": {
      "image/png": "[encoded data removed]",
      "text/plain": [
       "<Figure size 500x250 with 1 Axes>"
      ]
     },
     "metadata": {},
     "output_type": "display_data"
    }
   ],
   "source": [
    "fig, ax = plt.subplots(figsize=(5, 2.5))\n",
    "ax.hist(1/ood_sample_correction_med0.predict_proba(XZ_train_med0)[:,0] - 1, bins=30)\n",
    "plt.show()"
   ]
  },
  {
   "cell_type": "code",
   "execution_count": 12,
   "id": "8dd89d00",
   "metadata": {},
   "outputs": [
    {
     "name": "stderr",
     "output_type": "stream",
     "text": [
      "C:\\Users\\carlo\\AppData\\Local\\anaconda3\\lib\\site-packages\\joblib\\externals\\loky\\backend\\context.py:150: UserWarning: Could not find the number of physical cores for the following reason:\n",
      "found 0 physical cores < 1\n",
      "Returning the number of logical cores instead. You can silence this warning by setting LOKY_MAX_CPU_COUNT to the number of cores you want to use.\n",
      "  warnings.warn(\n",
      "  File \"C:\\Users\\carlo\\AppData\\Local\\anaconda3\\lib\\site-packages\\joblib\\externals\\loky\\backend\\context.py\", line 245, in _count_physical_cores\n",
      "    raise ValueError(\n"
     ]
    }
   ],
   "source": [
    "model_med0 = (\n",
    "    ConformalizedQuantileRegression()\n",
    "    .fit(XZ_train_med0, y_train_med0,\n",
    "         sample_weight=1/ood_sample_correction_med0.predict_proba(XZ_train_med0)[:,0] - 1,\n",
    "        )\n",
    ")\n",
    "y_test_interval_pred_cqr_med0 = model_med0.predict(XZ_test)\n",
    "\n",
    "model_med1 = (\n",
    "    ConformalizedQuantileRegression()\n",
    "    .fit(XZ_train_med1, y_train_med1,\n",
    "         sample_weight=1/ood_sample_correction_med1.predict_proba(XZ_train_med1)[:,0] - 1,\n",
    "        )\n",
    ")\n",
    "y_test_interval_pred_cqr_med1 = model_med1.predict(XZ_test)"
   ]
  },
  {
   "cell_type": "code",
   "execution_count": 13,
   "id": "a9282eca",
   "metadata": {},
   "outputs": [
    {
     "data": {
      "text/plain": [
       "0.9806383470037248"
      ]
     },
     "execution_count": 13,
     "metadata": {},
     "output_type": "execute_result"
    }
   ],
   "source": [
    "ps =  LogisticRegression(\n",
    "    random_state=42,\n",
    ").fit(df_train.drop(columns=[\"medication\", \"recovery\", \"recovery_cf\"]), df_train.medication)\n",
    "\n",
    "roc_auc_score(df_test.medication, ps.predict_proba(XZ_test)[:, 1])"
   ]
  },
  {
   "cell_type": "code",
   "execution_count": 14,
   "id": "7c8a18a1",
   "metadata": {},
   "outputs": [],
   "source": [
    "df_val = (\n",
    "    df_test\n",
    "    .assign(pred_lower_med_0=y_test_interval_pred_cqr_med0[:, 0])\n",
    "    .assign(pred_upper_med_0=y_test_interval_pred_cqr_med0[:, 1])\n",
    "    .assign(ic_size_med_0=lambda df_: df_.pred_upper_med_0 - df_.pred_lower_med_0)\n",
    "    .assign(pred_lower_med_1=y_test_interval_pred_cqr_med1[:, 0])\n",
    "    .assign(pred_upper_med_1=y_test_interval_pred_cqr_med1[:, 1])\n",
    "    .assign(ic_size_med_1=lambda df_: df_.pred_upper_med_1 - df_.pred_lower_med_1)\n",
    "    .assign(prob=ps.predict_proba(XZ_test)[:, 1])\n",
    "    .assign(cut=lambda df_: pd.qcut(df_.prob, q=5, labels=False))\n",
    "    .assign(match=lambda df_:\n",
    "            np.select(condlist=[df_.medication == 0],\n",
    "                      choicelist=[(df_.recovery > df_.pred_lower_med_0) & (df_.recovery < df_.pred_upper_med_0)],\n",
    "                      default=(df_.recovery > df_.pred_lower_med_1) & (df_.recovery < df_.pred_upper_med_1)))\n",
    "    .assign(match_cf=lambda df_:\n",
    "            np.select(condlist=[df_.medication != 0],\n",
    "                      choicelist=[(df_.recovery_cf > df_.pred_lower_med_0) & (df_.recovery_cf < df_.pred_upper_med_0)],\n",
    "                      default=(df_.recovery_cf > df_.pred_lower_med_1) & (df_.recovery_cf < df_.pred_upper_med_1)))\n",
    ")"
   ]
  },
  {
   "cell_type": "code",
   "execution_count": 15,
   "id": "532d485a",
   "metadata": {},
   "outputs": [
    {
     "data": {
      "image/png": "[encoded data removed]",
      "text/plain": [
       "<Figure size 1000x300 with 2 Axes>"
      ]
     },
     "metadata": {},
     "output_type": "display_data"
    }
   ],
   "source": [
    "from cal import calibration_curve\n",
    "\n",
    "prob_true, prob_pred, size_bin = calibration_curve(df_val.medication, df_val.prob, n_bins=10)\n",
    "\n",
    "fig, ax = plt.subplots(ncols=2, figsize=(10, 3))\n",
    "ax[0].scatter(prob_true, prob_pred, s=(0.03*size_bin).astype(int))\n",
    "ax[0].set_xlabel(\"True probability of bin\")\n",
    "ax[0].set_ylabel(\"Mean predicted probability of bin\")\n",
    "ax[1].hist(df_val.prob, bins=np.linspace(0, 1, 21), weights=np.ones_like(df_val.prob)/df_val.shape[0])\n",
    "ax[1].set_xlabel(\"Histogram of predicted probability\")\n",
    "plt.tight_layout()"
   ]
  },
  {
   "cell_type": "code",
   "execution_count": 16,
   "id": "4c6562d6",
   "metadata": {},
   "outputs": [],
   "source": [
    "from scipy.stats import bootstrap\n",
    "def bootstrap_ci(x, ci=0.95):\n",
    "    boot = bootstrap((x,), np.mean, confidence_level=ci)\n",
    "    return np.round(boot.confidence_interval, 5)"
   ]
  },
  {
   "cell_type": "code",
   "execution_count": 17,
   "id": "41f6155c",
   "metadata": {},
   "outputs": [
    {
     "data": {
      "text/html": [
       "<div>\n",
       "<style scoped>\n",
       "    .dataframe tbody tr th:only-of-type {\n",
       "        vertical-align: middle;\n",
       "    }\n",
       "\n",
       "    .dataframe tbody tr th {\n",
       "        vertical-align: top;\n",
       "    }\n",
       "\n",
       "    .dataframe thead th {\n",
       "        text-align: right;\n",
       "    }\n",
       "</style>\n",
       "<table border=\"1\" class=\"dataframe\">\n",
       "  <thead>\n",
       "    <tr style=\"text-align: right;\">\n",
       "      <th></th>\n",
       "      <th>cut</th>\n",
       "      <th>match_confidence_interval</th>\n",
       "      <th>match_cf_confidence_interval</th>\n",
       "      <th>match_mean</th>\n",
       "      <th>match_cf_mean</th>\n",
       "      <th>ic_size_med_0_mean</th>\n",
       "      <th>ic_size_med_1_mean</th>\n",
       "    </tr>\n",
       "  </thead>\n",
       "  <tbody>\n",
       "    <tr>\n",
       "      <th>0</th>\n",
       "      <td>0</td>\n",
       "      <td>[0.914, 0.937]</td>\n",
       "      <td>[0.79729, 0.8315]</td>\n",
       "      <td>0.9260</td>\n",
       "      <td>0.8145</td>\n",
       "      <td>16.083436</td>\n",
       "      <td>10.480352</td>\n",
       "    </tr>\n",
       "    <tr>\n",
       "      <th>1</th>\n",
       "      <td>1</td>\n",
       "      <td>[0.8875, 0.9135]</td>\n",
       "      <td>[0.853, 0.8825]</td>\n",
       "      <td>0.9010</td>\n",
       "      <td>0.8685</td>\n",
       "      <td>18.549757</td>\n",
       "      <td>10.011604</td>\n",
       "    </tr>\n",
       "    <tr>\n",
       "      <th>2</th>\n",
       "      <td>2</td>\n",
       "      <td>[0.8775, 0.9045]</td>\n",
       "      <td>[0.8535, 0.8835]</td>\n",
       "      <td>0.8915</td>\n",
       "      <td>0.8695</td>\n",
       "      <td>21.239289</td>\n",
       "      <td>12.913200</td>\n",
       "    </tr>\n",
       "    <tr>\n",
       "      <th>3</th>\n",
       "      <td>3</td>\n",
       "      <td>[0.899, 0.924]</td>\n",
       "      <td>[0.6905, 0.73015]</td>\n",
       "      <td>0.9120</td>\n",
       "      <td>0.7105</td>\n",
       "      <td>26.119253</td>\n",
       "      <td>15.579364</td>\n",
       "    </tr>\n",
       "    <tr>\n",
       "      <th>4</th>\n",
       "      <td>4</td>\n",
       "      <td>[0.8915, 0.917]</td>\n",
       "      <td>[0.1725, 0.2065]</td>\n",
       "      <td>0.9050</td>\n",
       "      <td>0.1890</td>\n",
       "      <td>30.549546</td>\n",
       "      <td>19.592550</td>\n",
       "    </tr>\n",
       "  </tbody>\n",
       "</table>\n",
       "</div>"
      ],
      "text/plain": [
       "   cut match_confidence_interval match_cf_confidence_interval  match_mean  \\\n",
       "0    0            [0.914, 0.937]            [0.79729, 0.8315]      0.9260   \n",
       "1    1          [0.8875, 0.9135]              [0.853, 0.8825]      0.9010   \n",
       "2    2          [0.8775, 0.9045]             [0.8535, 0.8835]      0.8915   \n",
       "3    3            [0.899, 0.924]            [0.6905, 0.73015]      0.9120   \n",
       "4    4           [0.8915, 0.917]             [0.1725, 0.2065]      0.9050   \n",
       "\n",
       "   match_cf_mean  ic_size_med_0_mean  ic_size_med_1_mean  \n",
       "0         0.8145           16.083436           10.480352  \n",
       "1         0.8685           18.549757           10.011604  \n",
       "2         0.8695           21.239289           12.913200  \n",
       "3         0.7105           26.119253           15.579364  \n",
       "4         0.1890           30.549546           19.592550  "
      ]
     },
     "execution_count": 17,
     "metadata": {},
     "output_type": "execute_result"
    }
   ],
   "source": [
    "aux1 = (\n",
    "    df_val\n",
    "    .groupby(\"cut\")\n",
    "    .match\n",
    "    .apply(bootstrap_ci)\n",
    "    .to_frame()\n",
    "    .rename(columns={\"match\": \"match_confidence_interval\"})\n",
    ")\n",
    "\n",
    "aux2 = (\n",
    "    df_val\n",
    "    .groupby(\"cut\")\n",
    "    .match_cf\n",
    "    .apply(bootstrap_ci)\n",
    "    .to_frame()\n",
    "    .rename(columns={\"match_cf\": \"match_cf_confidence_interval\"})\n",
    ")\n",
    "\n",
    "aux3 = (\n",
    "    df_val\n",
    "    .groupby(\"cut\")\n",
    "    .agg({\"match\": np.mean, \"match_cf\": np.mean, \"ic_size_med_0\": np.mean, \"ic_size_med_1\": np.mean})\n",
    "    .rename(columns=lambda col: col + \"_mean\")\n",
    ")\n",
    "\n",
    "pd.concat([aux1, aux2, aux3], axis=1).reset_index()"
   ]
  },
  {
   "cell_type": "markdown",
   "id": "c3e6420a",
   "metadata": {},
   "source": [
    "Esperava que o primeiro quantil tivesse um IC size do med1 maior já que teoricamente temos poucos exemplos para essa região. Mas aparentemente, ele tem bastante confiança mesmo nessa região..."
   ]
  },
  {
   "cell_type": "code",
   "execution_count": 18,
   "id": "4439c9ff",
   "metadata": {},
   "outputs": [
    {
     "name": "stderr",
     "output_type": "stream",
     "text": [
      "C:\\Users\\carlo\\AppData\\Local\\anaconda3\\lib\\site-packages\\scipy\\stats\\_resampling.py:144: RuntimeWarning: invalid value encountered in double_scalars\n",
      "  a_hat = 1/6 * sum(nums) / sum(dens)**(3/2)\n",
      "C:\\Users\\carlo\\AppData\\Local\\anaconda3\\lib\\site-packages\\scipy\\stats\\_resampling.py:97: DegenerateDataWarning: The BCa confidence interval cannot be calculated. This problem is known to occur when the distribution is degenerate or the statistic is np.min.\n",
      "  warnings.warn(DegenerateDataWarning(msg))\n"
     ]
    },
    {
     "data": {
      "text/html": [
       "<div>\n",
       "<style scoped>\n",
       "    .dataframe tbody tr th:only-of-type {\n",
       "        vertical-align: middle;\n",
       "    }\n",
       "\n",
       "    .dataframe tbody tr th {\n",
       "        vertical-align: top;\n",
       "    }\n",
       "\n",
       "    .dataframe thead th {\n",
       "        text-align: right;\n",
       "    }\n",
       "</style>\n",
       "<table border=\"1\" class=\"dataframe\">\n",
       "  <thead>\n",
       "    <tr style=\"text-align: right;\">\n",
       "      <th></th>\n",
       "      <th>cut</th>\n",
       "      <th>medication</th>\n",
       "      <th>match_confidence_interval</th>\n",
       "      <th>match_cf_confidence_interval</th>\n",
       "      <th>match_mean</th>\n",
       "      <th>match_cf_mean</th>\n",
       "      <th>ic_size_med_0_mean</th>\n",
       "      <th>ic_size_med_1_mean</th>\n",
       "    </tr>\n",
       "  </thead>\n",
       "  <tbody>\n",
       "    <tr>\n",
       "      <th>0</th>\n",
       "      <td>0</td>\n",
       "      <td>0.0</td>\n",
       "      <td>[0.91433, 0.93737]</td>\n",
       "      <td>[0.79709, 0.83066]</td>\n",
       "      <td>0.926353</td>\n",
       "      <td>0.814128</td>\n",
       "      <td>16.083279</td>\n",
       "      <td>10.479949</td>\n",
       "    </tr>\n",
       "    <tr>\n",
       "      <th>2</th>\n",
       "      <td>1</td>\n",
       "      <td>0.0</td>\n",
       "      <td>[0.89136, 0.91852]</td>\n",
       "      <td>[0.84737, 0.87941]</td>\n",
       "      <td>0.906029</td>\n",
       "      <td>0.863661</td>\n",
       "      <td>18.511663</td>\n",
       "      <td>9.967753</td>\n",
       "    </tr>\n",
       "    <tr>\n",
       "      <th>4</th>\n",
       "      <td>2</td>\n",
       "      <td>0.0</td>\n",
       "      <td>[0.86065, 0.90452]</td>\n",
       "      <td>[0.87871, 0.92129]</td>\n",
       "      <td>0.883871</td>\n",
       "      <td>0.900645</td>\n",
       "      <td>20.257201</td>\n",
       "      <td>12.377278</td>\n",
       "    </tr>\n",
       "    <tr>\n",
       "      <th>6</th>\n",
       "      <td>3</td>\n",
       "      <td>0.0</td>\n",
       "      <td>[0.70588, 0.94118]</td>\n",
       "      <td>[0.70588, 0.94118]</td>\n",
       "      <td>0.852941</td>\n",
       "      <td>0.852941</td>\n",
       "      <td>27.670396</td>\n",
       "      <td>14.823145</td>\n",
       "    </tr>\n",
       "    <tr>\n",
       "      <th>1</th>\n",
       "      <td>0</td>\n",
       "      <td>1.0</td>\n",
       "      <td>[0.25, 1.0]</td>\n",
       "      <td>[nan, nan]</td>\n",
       "      <td>0.750000</td>\n",
       "      <td>1.000000</td>\n",
       "      <td>16.161822</td>\n",
       "      <td>10.681355</td>\n",
       "    </tr>\n",
       "    <tr>\n",
       "      <th>3</th>\n",
       "      <td>1</td>\n",
       "      <td>1.0</td>\n",
       "      <td>[0.77987, 0.89308]</td>\n",
       "      <td>[0.87421, 0.95597]</td>\n",
       "      <td>0.842767</td>\n",
       "      <td>0.924528</td>\n",
       "      <td>18.990834</td>\n",
       "      <td>10.519336</td>\n",
       "    </tr>\n",
       "    <tr>\n",
       "      <th>5</th>\n",
       "      <td>2</td>\n",
       "      <td>1.0</td>\n",
       "      <td>[0.87837, 0.91265]</td>\n",
       "      <td>[0.82939, 0.86939]</td>\n",
       "      <td>0.896327</td>\n",
       "      <td>0.849796</td>\n",
       "      <td>21.860609</td>\n",
       "      <td>13.252253</td>\n",
       "    </tr>\n",
       "    <tr>\n",
       "      <th>7</th>\n",
       "      <td>3</td>\n",
       "      <td>1.0</td>\n",
       "      <td>[0.8998, 0.92472]</td>\n",
       "      <td>[0.68667, 0.72787]</td>\n",
       "      <td>0.913021</td>\n",
       "      <td>0.708037</td>\n",
       "      <td>26.092428</td>\n",
       "      <td>15.592442</td>\n",
       "    </tr>\n",
       "    <tr>\n",
       "      <th>8</th>\n",
       "      <td>4</td>\n",
       "      <td>1.0</td>\n",
       "      <td>[0.8915, 0.917]</td>\n",
       "      <td>[0.1725, 0.2065]</td>\n",
       "      <td>0.905000</td>\n",
       "      <td>0.189000</td>\n",
       "      <td>30.549546</td>\n",
       "      <td>19.592550</td>\n",
       "    </tr>\n",
       "  </tbody>\n",
       "</table>\n",
       "</div>"
      ],
      "text/plain": [
       "   cut  medication match_confidence_interval match_cf_confidence_interval  \\\n",
       "0    0         0.0        [0.91433, 0.93737]           [0.79709, 0.83066]   \n",
       "2    1         0.0        [0.89136, 0.91852]           [0.84737, 0.87941]   \n",
       "4    2         0.0        [0.86065, 0.90452]           [0.87871, 0.92129]   \n",
       "6    3         0.0        [0.70588, 0.94118]           [0.70588, 0.94118]   \n",
       "1    0         1.0               [0.25, 1.0]                   [nan, nan]   \n",
       "3    1         1.0        [0.77987, 0.89308]           [0.87421, 0.95597]   \n",
       "5    2         1.0        [0.87837, 0.91265]           [0.82939, 0.86939]   \n",
       "7    3         1.0         [0.8998, 0.92472]           [0.68667, 0.72787]   \n",
       "8    4         1.0           [0.8915, 0.917]             [0.1725, 0.2065]   \n",
       "\n",
       "   match_mean  match_cf_mean  ic_size_med_0_mean  ic_size_med_1_mean  \n",
       "0    0.926353       0.814128           16.083279           10.479949  \n",
       "2    0.906029       0.863661           18.511663            9.967753  \n",
       "4    0.883871       0.900645           20.257201           12.377278  \n",
       "6    0.852941       0.852941           27.670396           14.823145  \n",
       "1    0.750000       1.000000           16.161822           10.681355  \n",
       "3    0.842767       0.924528           18.990834           10.519336  \n",
       "5    0.896327       0.849796           21.860609           13.252253  \n",
       "7    0.913021       0.708037           26.092428           15.592442  \n",
       "8    0.905000       0.189000           30.549546           19.592550  "
      ]
     },
     "execution_count": 18,
     "metadata": {},
     "output_type": "execute_result"
    }
   ],
   "source": [
    "aux1 = (\n",
    "    df_val\n",
    "    .groupby([\"cut\", \"medication\"])\n",
    "    .match\n",
    "    .apply(bootstrap_ci)\n",
    "    .to_frame()\n",
    "    .rename(columns={\"match\": \"match_confidence_interval\"})\n",
    ")\n",
    "\n",
    "aux2 = (\n",
    "    df_val\n",
    "    .groupby([\"cut\", \"medication\"])\n",
    "    .match_cf\n",
    "    .apply(bootstrap_ci)\n",
    "    .to_frame()\n",
    "    .rename(columns={\"match_cf\": \"match_cf_confidence_interval\"})\n",
    ")\n",
    "\n",
    "aux3 = (\n",
    "    df_val\n",
    "    .groupby([\"cut\", \"medication\"])\n",
    "    .agg({\"match\": np.mean, \"match_cf\": np.mean, \"ic_size_med_0\": np.mean, \"ic_size_med_1\": np.mean}) # \n",
    "    .rename(columns=lambda col: col + \"_mean\")\n",
    ")\n",
    "\n",
    "pd.concat([aux1, aux2, aux3], axis=1).reset_index().sort_values(by=[\"medication\", \"cut\"])"
   ]
  },
  {
   "cell_type": "markdown",
   "id": "1edaa8db",
   "metadata": {},
   "source": [
    "Tem regiões que não tem ninguém do outro tratamento kkkk ._."
   ]
  },
  {
   "cell_type": "markdown",
   "id": "63b7c5a0-a86d-4527-a705-8e9c8a318642",
   "metadata": {},
   "source": [
    "Trocar o dataset"
   ]
  },
  {
   "cell_type": "markdown",
   "id": "e4f26c91-f488-4afa-8323-d020157751d4",
   "metadata": {},
   "source": [
    "___"
   ]
  }
 ],
 "metadata": {
  "kernelspec": {
   "display_name": "Python 3 (ipykernel)",
   "language": "python",
   "name": "python3"
  },
  "language_info": {
   "codemirror_mode": {
    "name": "ipython",
    "version": 3
   },
   "file_extension": ".py",
   "mimetype": "text/x-python",
   "name": "python",
   "nbconvert_exporter": "python",
   "pygments_lexer": "ipython3",
   "version": "3.10.9"
  }
 },
 "nbformat": 4,
 "nbformat_minor": 5
}
