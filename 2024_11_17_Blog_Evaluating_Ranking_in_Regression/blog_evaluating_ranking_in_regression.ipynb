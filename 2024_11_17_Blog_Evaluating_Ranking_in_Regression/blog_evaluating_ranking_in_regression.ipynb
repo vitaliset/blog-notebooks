{
  "nbformat": 4,
  "nbformat_minor": 0,
  "metadata": {
    "colab": {
      "provenance": []
    },
    "kernelspec": {
      "name": "python3",
      "display_name": "Python 3"
    },
    "language_info": {
      "name": "python"
    }
  },
  "cells": [
    {
      "cell_type": "markdown",
      "source": [
        "# Evaluating Ranking in Regression\n",
        "\n",
        "In supervised learning regression problems, the focus is generally on metrics that ensure the predicted value is close to the true value of the sample. Classic regression metrics are variations that involve the measure $| \\hat{y_i} - y_i |$.\n",
        "\n",
        "However, it is not always essential to predict the exact value of the target variable precisely, as in some applications, exactness is not critical to the final objective. In many cases, achieving a good ranking of the predictions is sufficient to meet the demands of the business problem. Of course, this depends on the context, but with proper ranking, we can approach the problem similarly to setting a [threshold in binary classification](https://vitaliset.github.io/threshold-dependent-opt/) or, more generally, as a policy problem. In this case, the most appropriate cutoff point is identified through additional analysis to implement a desired treatment or action, such as targeting individuals with an expected credit card expense greater than $\\delta$ for a new product marketing campaign. In most companies, the policy is structured around buckets of relevant percentiles, which are inherently based on ranking.\n",
        "\n",
        "In other scenarios, such as income estimation, the regression model is often used as an auxiliary variable in subsequent models. These models, frequently ensemble of decision trees, inherently disregard the exact value of variables, considering only their rankings. If the final model is, for instance, a logistic regression or even a neural network, simple transformations are typically applied, altering the distribution of the values but maintaining monotonicity. Again, the exact values matter much less than the ranking.\n",
        "\n",
        "From this perspective, it becomes clear that regression problems may require specific metrics to evaluate the quality of the ranking rather than relying solely on metrics that aim to minimize variations of $| \\hat{y_i} - y_i |$.\n",
        "\n",
        "___"
      ],
      "metadata": {
        "id": "iEo715S14ZpP"
      }
    },
    {
      "cell_type": "markdown",
      "source": [
        "To illustrate our metrics, let’s assume we built three different models that produced various scores for the same prediction problem, with the test set defined by `y_true`."
      ],
      "metadata": {
        "id": "FWgkdjyBrGZL"
      }
    },
    {
      "cell_type": "code",
      "source": [
        "import numpy as np\n",
        "\n",
        "random_state_0, random_state_1, random_state_2, random_state_3 = np.random.RandomState(42).randint(low=0, high=2**32 - 1, size=4)\n",
        "\n",
        "y_true = np.random.RandomState(random_state_0).normal(size=1_000)\n",
        "\n",
        "y_score_1 = np.exp(3 + y_true) + np.random.RandomState(random_state_1).normal(size=len(y_true))\n",
        "y_score_2 =  3 * y_true + np.random.RandomState(random_state_2).normal(size=len(y_true))\n",
        "y_score_3 = np.random.RandomState(random_state_3).normal(size=1_000)\n",
        "\n",
        "SCORES = dict(zip(['y_score_1', 'y_score_2', 'y_score_3'], [y_score_1, y_score_2, y_score_3]))"
      ],
      "metadata": {
        "id": "oQ0hFxqE7NfQ"
      },
      "execution_count": 1,
      "outputs": []
    },
    {
      "cell_type": "markdown",
      "source": [
        "Without delving into the specifics of how these scores were generated, the most natural and well-known way to evaluate these models would be using metrics such as $R^2$, $\\textrm{MAE}$, or some variation of these. These metrics are very useful but do not necessarily provide much insight into ranking.\n",
        "\n",
        "In our example, by analyzing the $\\textrm{RMSE}$, it seems that `y_score_3` is a good predictor."
      ],
      "metadata": {
        "id": "p97KULB78_z4"
      }
    },
    {
      "cell_type": "code",
      "source": [
        "from sklearn import metrics\n",
        "\n",
        "for score_name, y_score in SCORES.items():\n",
        "    mae = np.sqrt(metrics.mean_squared_error(y_true=y_true, y_pred=y_score))\n",
        "    print(f\"MAE for {score_name}: {mae:6.3f}\")"
      ],
      "metadata": {
        "colab": {
          "base_uri": "https://localhost:8080/"
        },
        "id": "li6qJq3I8e8y",
        "outputId": "ac86589b-e81b-40de-a096-27bf267c9f80"
      },
      "execution_count": 2,
      "outputs": [
        {
          "output_type": "stream",
          "name": "stdout",
          "text": [
            "MAE for y_score_1: 58.205\n",
            "MAE for y_score_2:  2.242\n",
            "MAE for y_score_3:  1.400\n"
          ]
        }
      ]
    },
    {
      "cell_type": "markdown",
      "source": [
        "___\n",
        "\n",
        "## Spearman's Correlation\n",
        "\n",
        "When we want to evaluate how a regression model ranks the data, it is natural to consider measures of correlation between two continuous variables. Consequently, an initial idea might be to use Pearson's correlation. However, Pearson's correlation focuses solely on linear relationships and does not account for the relative order of the values. Thus, even if the model accurately reproduces the order of the predicted values, if the transformation between the values is not close to linear, Pearson's correlation may not adequately reflect the quality of the ranking.\n",
        "\n",
        "This is where Spearman's correlation ($\\rho$) becomes an interesting metric, as it measures the similarity between the rankings of these variables [1]. In other words, it evaluates whether the order of the values is consistent between the two. This makes Spearman's correlation particularly useful in problems where the relative position of the values is more important than their magnitudes.\n",
        "\n",
        "$\\oint$ _Spearman's correlation can be seen as a version of Pearson's correlation applied to the ranks of the variables instead of their original values. Under the hood, Spearman transforms the data by replacing each value with its position in the ranking and then calculates Pearson's correlation on these ranks._\n",
        "\n",
        "If there are no ties in the ranks, the simplified formula for Spearman's correlation is given by\n",
        "\n",
        "$$ \\rho = 1 - \\frac{6 \\sum_{i=1}^n d_i^2}{n(n^2 - 1)}, $$\n",
        "\n",
        "where $n$ is the total number of observations, and $d_i$ is the difference between the ranks of the same observation in the two variables. To calculate $d_i$, we first assign a rank to each value of the variables. For example, given a set of values $\\{w_i\\}_{i=1}^n$ and $\\{z_i\\}_{i=1}^n$, we sort each set separately and replace the values with their respective ranks. Then, for each observation $i$, we compute\n",
        "\n",
        "$$ d_i = \\text{rank}(w_i) - \\text{rank}(z_i). $$\n",
        "\n",
        "The values of $\\rho$ range between -1 and 1. A value of 1 indicates perfect ranking agreement, -1 indicates a complete inversion of the ranking, and 0 indicates no ranking relationship between the variables."
      ],
      "metadata": {
        "id": "2E51jpOY33mb"
      }
    },
    {
      "cell_type": "code",
      "source": [
        "from scipy import stats\n",
        "\n",
        "for score_name, y_score in SCORES.items():\n",
        "    spearman = stats.spearmanr(y_true, y_score).statistic\n",
        "    print(f\"Spearman for {score_name}: {spearman:7.5f}\")"
      ],
      "metadata": {
        "colab": {
          "base_uri": "https://localhost:8080/"
        },
        "id": "5SnILOMY8IVR",
        "outputId": "3871465f-8933-4ee2-fdac-df18e4161e5a"
      },
      "execution_count": 3,
      "outputs": [
        {
          "output_type": "stream",
          "name": "stdout",
          "text": [
            "Spearman for y_score_1: 0.99759\n",
            "Spearman for y_score_2: 0.94718\n",
            "Spearman for y_score_3: 0.01447\n"
          ]
        }
      ]
    },
    {
      "cell_type": "markdown",
      "source": [
        "Using this new metric, we noticed that scores 1 and 2 stand out due to their ability of sorting `y_true`.\n",
        "\n",
        "___"
      ],
      "metadata": {
        "id": "Jwr74jT9tFx0"
      }
    },
    {
      "cell_type": "markdown",
      "source": [
        "## Kendall's Tau Correlation\n",
        "\n",
        "Another common metric for evaluating ranking is the Kendall's Tau ($\\tau$) concordance index. This metric measures the strength of association between two rankings by comparing pairs of observations and determining whether they are concordant or discordant [2].\n",
        "\n",
        "Two pairs $(w_i, z_i)$ and $(w_j, z_j)$ are considered:\n",
        "\n",
        "- concordant: if the ranking of $w_i$ relative to $w_j$ is the same as the ranking of $z_i$ relative to $z_j$. Formally, this occurs when\n",
        "$$ (w_i - w_j)(z_i - z_j) > 0. $$\n",
        "- discordant: if the ranking of $w_i$ relative to $w_j$ is the opposite of that of $z_i$ relative to $z_j$. In other words,\n",
        "$$ (w_i - w_j)(z_i - z_j) < 0. $$\n",
        "\n",
        "The formula for Kendall's Tau is\n",
        "\n",
        "$$\\tau = \\frac{C - D}{\\frac{1}{2} n(n-1)},$$\n",
        "\n",
        "where $C$ is the number of concordant pairs and $D$ is the number of discordant pairs. The denominator, $\\frac{1}{2} n(n-1)$, represents the total number of possible pairs among $n$ observations.\n",
        "\n",
        "Similar to Spearman's correlation, Kendall's Tau ranges between -1 and 1, with the same interpretation: when $\\tau$ approaches 1, the rankings are highly concordant; when it approaches -1, the rankings are reversed; and when $\\tau \\approx 0$, there is no association between the rankings."
      ],
      "metadata": {
        "id": "cUaTCHhV5b87"
      }
    },
    {
      "cell_type": "code",
      "source": [
        "from scipy import stats\n",
        "\n",
        "for score_name, y_score in SCORES.items():\n",
        "    kendall = stats.kendalltau(y_true, y_score).statistic\n",
        "    print(f\"kendall's tau for {score_name}: {kendall:7.5f}\")"
      ],
      "metadata": {
        "colab": {
          "base_uri": "https://localhost:8080/"
        },
        "id": "I3f7IaJA-DjK",
        "outputId": "7fa42141-a946-4dd2-ef04-65cfd4151caa"
      },
      "execution_count": 4,
      "outputs": [
        {
          "output_type": "stream",
          "name": "stdout",
          "text": [
            "kendall's tau for y_score_1: 0.96163\n",
            "kendall's tau for y_score_2: 0.80227\n",
            "kendall's tau for y_score_3: 0.00976\n"
          ]
        }
      ]
    },
    {
      "cell_type": "markdown",
      "source": [
        "$\\oint$ _It is possible to adapt the metric to account for sample weights by assigning the weight of a pair as the product of the weights of the samples._\n",
        "\n",
        "___\n",
        "\n",
        "## ROCAUC for Classification\n",
        "\n",
        "ROCAUC for classification is a very good binary classification metric for measuring ranking [3]. It is a [class imbalance-invariant metric](https://pibieta.github.io/imbalanced_learning/notebooks/Metrics%201%20-%20Intro%20%26%20ROC%20AUC.html#proof-of-probabilistic-interpretation-of-the-roc-auc) and has a perfect interpretation for the ranking problem, being, in my experience, the primary metric used in the industry for binary classification problems when ranking is the primary goal.\n",
        "\n",
        "It is possible to [prove](https://pibieta.github.io/imbalanced_learning/notebooks/Metrics%201%20-%20Intro%20%26%20ROC%20AUC.html#proof-of-probabilistic-interpretation-of-the-roc-auc) that in a binary classification problem with explanatory variables $X \\in \\mathcal{X}$ and $Y \\in \\{0, 1\\}$, given a scoring/ranking function $f:\\mathcal{X} \\to \\mathbb{R}$, then\n",
        "\n",
        "$$\\text{ROCAUC}(f) = \\mathbb{P}\\left( f(X_i) > f(X_j) \\mid Y_i = 1, Y_j = 0 \\right).$$\n",
        "\n",
        "In other words, if we select a random sample from class 1 and a random sample from class 0 in our binary classification problem, the ROCAUC coincides with the probability that the score given to the class 1 sample is greater than the score given to the class 0 sample.\n",
        "\n",
        "Because of this probabilistic interpretation of the metric, a good ROCAUC for your classifier is equivalent to a good ranking when using your classifier as a means of ordering.\n",
        "\n",
        "___\n",
        "\n",
        "## Estimating the ROCAUC via the Wilcoxon-Mann-Whitney statistic\n",
        "\n",
        "The previous definition refers to the true ROCAUC value, rather than the estimated value we calculate using [`sklearn.metrics.roc_auc_score`](https://scikit-learn.org/1.5/modules/generated/sklearn.metrics.roc_auc_score.html). In an observed random sample of $(X, Y)$, $\\{(x_i, y_i)\\}_{i=1}^n$, the probabilistic version can be estimated using the Wilcoxon-Mann-Whitney statistic as\n",
        "\n",
        "$$ \\frac{1}{n_0 n_1} \\sum_{i : y_i = 1} \\sum_{j : y_j = 0} \\mathbb{1}\\left( f(x_i) > f(x_j) \\right), $$\n",
        "\n",
        "where $n_0$ and $n_1$ are the numbers of elements in classes $0$ and $1$, respectively, and $\\mathbb{1}\\left(S\\right)$ is the indicator function. $\\mathbb{1}\\left(S\\right)$ is equal to 1 when the condition $S$ is true and 0 otherwise.\n",
        "\n",
        "There are some variations of this statistic for more efficient computation, since in this form it requires a number of comparisons on the order of $\\mathcal{O}(n_0 n_1)$, or $\\mathcal{O}(n^2)$ if $n_1 \\approx n_0$, which can be impractical [3]. The simplest basic version is to perform this sampling only a sufficiently large number $N$ of times, resulting in the version\n",
        "\n",
        "$$\\widehat{\\text{ROCAUC}}(f) = \\frac{1}{N} \\sum_{(i,j) : y_i = 1, y_j = 0} \\mathbb{1}\\left( f(x_i) > f(x_j) \\right).$$\n",
        "\n",
        "## ROCAUC for Regression\n",
        "\n",
        "This probabilistic interpretation motivates us to make an clever variation and use something similar for the regression problem [4]. If we replace the condition $y_i = 1, y_j = 0$ with $y_i > y_j$, we can construct a generic ranking probability metric for regression problems as\n",
        "\n",
        "$$\\widehat{\\text{ROCAUC}}(f) = \\frac{1}{N} \\sum_{(i,j): y_i > y_j}  \\mathbb{1}\\left( f(x_i) > f(x_j) \\right).$$\n",
        "\n",
        "$\\oint$ _Just like with Kendall's tau, it's possible to adapt the metric to account for sample weights by assigning the weight of a pair as the product of the weights of the samples._"
      ],
      "metadata": {
        "id": "7XJVmMUa-S5O"
      }
    },
    {
      "cell_type": "code",
      "source": [
        "from sklearn import utils\n",
        "\n",
        "def regression_roc_auc(y_true, y_score):\n",
        "    \"\"\"Compute the generalized ROC AUC for regression tasks.\n",
        "\n",
        "    This function calculates the probability that the predicted values maintain\n",
        "    the correct order relative to the true values, specifically for pairs where\n",
        "    y_true[i] > y_true[j].\n",
        "\n",
        "    Parameters\n",
        "    ----------\n",
        "    y_true : array-like of shape (n_samples,)\n",
        "        True continuous target values.\n",
        "\n",
        "    y_score : array-like of shape (n_samples,)\n",
        "        Predicted continuous target values.\n",
        "\n",
        "    Returns\n",
        "    -------\n",
        "    score : float\n",
        "        The computed generalized ROC AUC score for regression.\n",
        "    \"\"\"\n",
        "    y_true = utils.check_array(y_true, ensure_2d=False, dtype=None)\n",
        "    y_score = utils.check_array(y_score, ensure_2d=False)\n",
        "\n",
        "    total_pairs = 0\n",
        "    correct_orderings = 0\n",
        "\n",
        "    # Efficiently compute the metric without explicit loops\n",
        "    # Create a mask for all pairs where y_true[i] > y_true[j]\n",
        "    diff_matrix = y_true[:, None] - y_true[None, :]\n",
        "    valid_pairs = diff_matrix > 0\n",
        "\n",
        "    # Count total valid pairs\n",
        "    total_pairs = np.sum(valid_pairs)\n",
        "\n",
        "    if total_pairs == 0:\n",
        "        # If no valid pairs, return 0.5 (equivalent to random ordering)\n",
        "        return 0.5\n",
        "\n",
        "    # Compare predictions for valid pairs\n",
        "    pred_diff = y_score[:, None] - y_score[None, :]\n",
        "    correct_orderings = np.sum((pred_diff > 0) & valid_pairs)\n",
        "\n",
        "    score = correct_orderings / total_pairs\n",
        "    return score\n"
      ],
      "metadata": {
        "id": "I38dP0MI_nHq"
      },
      "execution_count": 5,
      "outputs": []
    },
    {
      "cell_type": "code",
      "source": [
        "for score_name, y_score in SCORES.items():\n",
        "    roc_auc = regression_roc_auc(y_true, y_score)\n",
        "    print(f\"ROCAUC for {score_name}: {roc_auc:7.5f}\")"
      ],
      "metadata": {
        "colab": {
          "base_uri": "https://localhost:8080/"
        },
        "id": "DTN9Das2KVsp",
        "outputId": "9a7534b5-316f-4696-ee67-a7d5a4ca5df3"
      },
      "execution_count": 6,
      "outputs": [
        {
          "output_type": "stream",
          "name": "stdout",
          "text": [
            "ROCAUC for y_score_1: 0.98081\n",
            "ROCAUC for y_score_2: 0.90113\n",
            "ROCAUC for y_score_3: 0.50488\n"
          ]
        }
      ]
    },
    {
      "cell_type": "markdown",
      "source": [
        "These metrics are quite useful, but if your regression problem is highly imbalanced, you may encounter some difficulties. I have worked on regression problems where over 99.5% of the data had values equal to 0, with only a small fraction having any associated value. Since many values will be tied, depending on the correlation implementation you use, your previous metrics may become artificially inflated or deflated, without a clear rationale to identify the issue. In the case of ROCAUC, with many ties in $y_i = y_j$, discarding numerous samples might result in a less reliable value with high variance.\n",
        "\n",
        "___\n",
        "\n",
        "## Ranking Curve\n",
        "\n",
        "The ranking curve (I’m not sure if this curve has an official name) is interesting because it is very simple and intuitive. The process involves ranking your sample based on the predicted variable, dividing it into \"buckets\" according to percentiles, and then calculating the mean or another relevant positional statistic for each bucket. For example, if you divide the sample into 10 buckets, the third bucket would contain the elements with values falling between the 20th and 30th percentiles, and you would compute the mean of these values.\n",
        "\n",
        "The idea is that, if your score ranks the sample well, then the elements with the highest values will cluster at one end, and those with the lowest values will cluster at the other. As a result, the resulting graph will have a steep slope.\n",
        "\n",
        "$\\oint$ _I usually divide the buckets into 10, but this number is a parameter you can adjust as desired, depending on the level of detail you want to observe. The issue is that the greater the detail, the noisier the result will be due to smaller sample sizes. However, by using a bootstrap method, you can plot a confidence interval for analysis._\n",
        "\n",
        "$\\oint$ _This construction is not a [QQ-plot](https://vitaliset.github.io/covariate-shift-1-qqplot/), but understanding how a QQ-plot works may help you grasp the construction of this metric, even though this curve is much simpler._"
      ],
      "metadata": {
        "id": "3QwwGhv1E_SE"
      }
    },
    {
      "cell_type": "code",
      "source": [
        "def ranking_curve(y_true, y_score, n_buckets=10, statistic='mean'):\n",
        "    \"\"\"Compute the ranking curve for a regression task.\n",
        "\n",
        "    Calculates statistics of `y_true` values across `n_buckets`  of `y_score`\n",
        "    values, ordered by the predicted scores. It can be used to  assess the\n",
        "    distribution or trends of true values as a function of predicted scores.\n",
        "\n",
        "    Parameters\n",
        "    ----------\n",
        "    y_true : array-like of shape (n_samples,)\n",
        "        True continuous target values.\n",
        "\n",
        "    y_score : array-like of shape (n_samples,)\n",
        "        Predicted continuous target values.\n",
        "\n",
        "    n_buckets : int, default=10\n",
        "        The number of buckets to divide the sorted `y_score` values into.\n",
        "\n",
        "    statistic : {'mean', 'median'} or callable, default='mean'\n",
        "        The statistic to compute for `y_true` values in each bucket.\n",
        "        - If 'mean', computes the mean of `y_true` in each bucket.\n",
        "        - If 'median', computes the median of `y_true` in each bucket.\n",
        "        - If callable, applies the callable function to the `y_true` values in each bucket.\n",
        "\n",
        "    Returns\n",
        "    -------\n",
        "    bucket_positions : ndarray of shape (n_buckets,)\n",
        "        The positions of the buckets, indexed from 1 to `n_buckets`.\n",
        "\n",
        "    bucket_values : ndarray of shape (n_buckets,)\n",
        "        The computed statistic for `y_true` values in each bucket.\n",
        "    \"\"\"\n",
        "    sorted_indices = np.argsort(y_score)\n",
        "    y_true_sorted = y_true[sorted_indices]\n",
        "\n",
        "    bucket_edges = np.linspace(0, len(y_true), n_buckets + 1, dtype=int)\n",
        "    bucket_values = []\n",
        "\n",
        "    if statistic == 'mean':\n",
        "        stat_func = np.mean\n",
        "    elif statistic == 'median':\n",
        "        stat_func = np.median\n",
        "    elif callable(statistic):\n",
        "        stat_func = statistic\n",
        "    else:\n",
        "        raise ValueError\n",
        "\n",
        "    for i in range(n_buckets):\n",
        "        start, end = bucket_edges[i], bucket_edges[i + 1]\n",
        "        bin_values = y_true_sorted[start:end]\n",
        "        if len(bin_values) > 0:\n",
        "            bucket_stat = stat_func(bin_values)\n",
        "        else:\n",
        "            bucket_stat = np.nan\n",
        "        bucket_values.append(bucket_stat)\n",
        "\n",
        "    bucket_positions = np.arange(1, n_buckets + 1)\n",
        "    return bucket_positions, bucket_values"
      ],
      "metadata": {
        "id": "xsLeg7qCJHV-"
      },
      "execution_count": 7,
      "outputs": []
    },
    {
      "cell_type": "code",
      "source": [
        "N_BUCKETS = 10\n",
        "ordering_curve_dict = {}\n",
        "\n",
        "for score_name, y_score in SCORES.items():\n",
        "    bins, ordering_curve = ranking_curve(y_true, y_score, N_BUCKETS, 'mean')\n",
        "    ordering_curve_dict[score_name] = ordering_curve"
      ],
      "metadata": {
        "id": "g0zhO7dfOoAl"
      },
      "execution_count": 8,
      "outputs": []
    },
    {
      "cell_type": "markdown",
      "source": [
        "It’s useful to compare the curve with a random model that would uniformly distribute `y_true` across all bins, meaning that the mean for every bucket would be the same, as there would be no relationship between the order and `y_true`."
      ],
      "metadata": {
        "id": "k_Q_xUmqQdDK"
      }
    },
    {
      "cell_type": "code",
      "source": [
        "import matplotlib.pyplot as plt\n",
        "\n",
        "fig, ax = plt.subplots(figsize=(5, 3), dpi=130)\n",
        "\n",
        "ax.hlines(y_true.mean(), min(bins), max(bins), label='random ordering', colors='k', alpha=0.5)\n",
        "for score_name, ordering_curve in ordering_curve_dict.items():\n",
        "    ax.plot(bins, ordering_curve, '-o', markeredgecolor='k', markeredgewidth=0.5, label=score_name)\n",
        "\n",
        "ax.set_xticks(bins)\n",
        "ax.legend()\n",
        "ax.set_ylabel(\"Mean of y for each bucket\")\n",
        "ax.set_ylabel(\"Mean of y for each bucket\")\n",
        "plt.tight_layout()"
      ],
      "metadata": {
        "colab": {
          "base_uri": "https://localhost:8080/",
          "height": 393
        },
        "id": "w5k8NulYO_GE",
        "outputId": "9ee2980a-339a-4c2f-a260-e530c7a039ed"
      },
      "execution_count": 9,
      "outputs": [
        {
          "output_type": "display_data",
          "data": {
            "text/plain": [
              "<Figure size 650x390 with 1 Axes>"
            ],
            "image/png": "[encoded data removed]"
          },
          "metadata": {}
        }
      ]
    },
    {
      "cell_type": "markdown",
      "source": [
        "It is also very useful to transform this plot into numerical values that can be used to compare models during hyperparameter optimization. Some of the metrics I like to use include:\n",
        "\n",
        "- The value of the last bucket.  \n",
        "- The value of the first bucket.  \n",
        "- The difference between the last and the first bucket (which is equivalent to the mean of the variations through a telescoping sum).  \n",
        "- The slope of a linear regression fitted to the points.  "
      ],
      "metadata": {
        "id": "iC0OcnZ8JJtA"
      }
    },
    {
      "cell_type": "code",
      "source": [
        "def last_bucket_ordering_curve(y_true, y_score, n_buckets=10, statistic='mean'):\n",
        "    _, ordering_curve = ranking_curve(y_true, y_score, n_buckets=n_buckets, statistic=statistic)\n",
        "    *_, last_bucket = ordering_curve\n",
        "    return last_bucket\n",
        "\n",
        "def first_bucket_ordering_curve(y_true, y_score, n_buckets=10, statistic='mean'):\n",
        "    _, ordering_curve = ranking_curve(y_true, y_score, n_buckets=n_buckets, statistic=statistic)\n",
        "    first_bucket, *_ = ordering_curve\n",
        "    return first_bucket\n",
        "\n",
        "def diff_bucket_ordering_curve(y_true, y_score, n_buckets=10, statistic='mean'):\n",
        "    _, ordering_curve = ranking_curve(y_true, y_score, n_buckets=n_buckets, statistic=statistic)\n",
        "    first_bucket, *_, last_bucket = ordering_curve\n",
        "    return last_bucket - first_bucket\n",
        "\n",
        "from sklearn.linear_model import LinearRegression\n",
        "\n",
        "def linear_regression_coefficient_ordering_curve(y_true, y_score, n_buckets=10, statistic='mean'):\n",
        "    _, ordering_curve = ranking_curve(y_true, y_score, n_buckets=n_buckets, statistic=statistic)\n",
        "    x_values = np.arange(n_buckets).reshape(-1, 1)\n",
        "    y_values = np.array(ordering_curve).reshape(-1, 1)\n",
        "\n",
        "    model = LinearRegression().fit(x_values, y_values)\n",
        "    return model.coef_[0][0]\n"
      ],
      "metadata": {
        "id": "ttwORJ8FJJLT"
      },
      "execution_count": 10,
      "outputs": []
    },
    {
      "cell_type": "markdown",
      "source": [
        "The higher the value of the last bin, the more concentrated the selected values of `y_true` are in the higher range."
      ],
      "metadata": {
        "id": "RlahMXIZk788"
      }
    },
    {
      "cell_type": "code",
      "source": [
        "for score_name, y_score in SCORES.items():\n",
        "    last_bucket = last_bucket_ordering_curve(y_true, y_score)\n",
        "    print(f\"Last bucket for {score_name}: {last_bucket:7.5f}\")"
      ],
      "metadata": {
        "colab": {
          "base_uri": "https://localhost:8080/"
        },
        "id": "pVgmiLkAU8DS",
        "outputId": "c00f621f-22b1-45ba-d39e-06fbf1bab7a3"
      },
      "execution_count": 11,
      "outputs": [
        {
          "output_type": "stream",
          "name": "stdout",
          "text": [
            "Last bucket for y_score_1: 1.79617\n",
            "Last bucket for y_score_2: 1.70048\n",
            "Last bucket for y_score_3: 0.12308\n"
          ]
        }
      ]
    },
    {
      "cell_type": "markdown",
      "source": [
        "The lower the value of the first bin, the more concentrated the selected values of `y_true` are in the lower range."
      ],
      "metadata": {
        "id": "7e6Co_DqlD5T"
      }
    },
    {
      "cell_type": "code",
      "source": [
        "for score_name, y_score in SCORES.items():\n",
        "    first_bucket = first_bucket_ordering_curve(y_true, y_score)\n",
        "    print(f\"First bucket for {score_name}: {first_bucket:8.5f}\")"
      ],
      "metadata": {
        "colab": {
          "base_uri": "https://localhost:8080/"
        },
        "id": "ZsFoupvtko3o",
        "outputId": "3e2e46d1-35cb-4d34-a194-dfd450b32a1c"
      },
      "execution_count": 12,
      "outputs": [
        {
          "output_type": "stream",
          "name": "stdout",
          "text": [
            "First bucket for y_score_1: -1.76345\n",
            "First bucket for y_score_2: -1.70674\n",
            "First bucket for y_score_3:  0.07232\n"
          ]
        }
      ]
    },
    {
      "cell_type": "markdown",
      "source": [
        "The greater the difference between the last bin and the first bin, the better separated the values with low scores are from those with higher scores.\n"
      ],
      "metadata": {
        "id": "zvyJKitQlHsf"
      }
    },
    {
      "cell_type": "code",
      "source": [
        "for score_name, y_score in SCORES.items():\n",
        "    diff_bucket = diff_bucket_ordering_curve(y_true, y_score)\n",
        "    print(f\"Diff bucket for {score_name}: {diff_bucket:7.5f}\")"
      ],
      "metadata": {
        "colab": {
          "base_uri": "https://localhost:8080/"
        },
        "id": "WUQDXn_HkrN2",
        "outputId": "0ef61b74-6375-4983-99a4-fddee02dd520"
      },
      "execution_count": 13,
      "outputs": [
        {
          "output_type": "stream",
          "name": "stdout",
          "text": [
            "Diff bucket for y_score_1: 3.55962\n",
            "Diff bucket for y_score_2: 3.40723\n",
            "Diff bucket for y_score_3: 0.05076\n"
          ]
        }
      ]
    },
    {
      "cell_type": "markdown",
      "source": [
        "The steeper the slope of the linear regression curve fitted to the points, the more tilted the points are, indicating better ranking."
      ],
      "metadata": {
        "id": "MJhJOQXsa3lU"
      }
    },
    {
      "cell_type": "code",
      "source": [
        "for score_name, y_score in SCORES.items():\n",
        "    lr_bucket = linear_regression_coefficient_ordering_curve(y_true, y_score)\n",
        "    print(f\"Linear regression coefficient for {score_name}: {lr_bucket:7.5f}\")"
      ],
      "metadata": {
        "colab": {
          "base_uri": "https://localhost:8080/"
        },
        "id": "ytNenibra3Wz",
        "outputId": "e720eef4-37c5-4cf4-c774-2a8813a75957"
      },
      "execution_count": 14,
      "outputs": [
        {
          "output_type": "stream",
          "name": "stdout",
          "text": [
            "Linear regression coefficient for y_score_1: 0.34367\n",
            "Linear regression coefficient for y_score_2: 0.32808\n",
            "Linear regression coefficient for y_score_3: 0.00722\n"
          ]
        }
      ]
    },
    {
      "cell_type": "markdown",
      "source": [
        "$\\oint$ _Adding sample weights to this curve is considerably more tedious, as you need to split the percentiles based on the sum of the weights, [but it’s not impossible](https://github.com/dihanster/datalib/issues/17#issue-1688825236). :)_\n",
        "\n",
        "$\\oint$ _This curve is also really good for evaluating ranking performance for classification problems._\n",
        "\n",
        "___\n",
        "\n",
        "## Final considerations\n",
        "\n",
        "Although regression models often optimize metrics based on $\\hat{y_i} - y_i |$, I hope this discussion has inspired reflection on the limitations of such metrics. They may not always be the most appropriate choice and can sometimes obscure the true problem of interest.\n",
        "\n",
        "The ranking metrics introduced here each provide are highly valuable, complementing one another depending on the specific context and problem at hand. Instead of striving for a single, universally applicable metric, it is often more effective to evaluate these metrics collectively. In practice, they tend to align and reinforce each other, offering a richer and more nuanced understanding of model performance.\n",
        "\n",
        "Moreover, I encourage you to tweak existing metrics or develop custom variations which can often uncover fresh perspectives on a problem. The ultimate goal is not merely to assign a score to a model but to ensure it aligns with the problem's objectives and delivers outcomes that are meaningful and actionable.\n",
        "\n",
        "$\\oint$ _It is worth emphasizing that ranking-oriented metrics are especially relevant in domains like recommendation systems, where the primary objective is to provide an optimal ranking of items rather than precise predictions. By focusing on ranking quality, these metrics address the practical requirements of systems designed to prioritize user preferences and deliver highly relevant outcomes efficiently. I believe that adaptations of such metrics could also be highly effective for addressing the challenges in other domains._\n",
        "\n",
        "## Bibliography\n",
        "\n",
        "[1] [Spearman's rank correlation coefficient. Wikipedia.](https://en.wikipedia.org/wiki/Spearman%27s_rank_correlation_coefficient)\n",
        "\n",
        "[2] [Kendall rank correlation coefficient. Wikipedia.](https://en.wikipedia.org/wiki/Kendall_rank_correlation_coefficient)\n",
        "\n",
        "[3] [Imbalanced Binary Classification - A survey with code. Alessandro Morita, Juan Pablo Ibieta, Carlo Lemos.](https://pibieta.github.io/imbalanced_learning/notebooks/Introduction.html)\n",
        "\n",
        "[4] [You Can Compute ROC Curve Also for Regression Models. Samuele Mazzanti.](https://towardsdatascience.com/how-to-calculate-roc-auc-score-for-regression-models-c0be4fdf76bb)"
      ],
      "metadata": {
        "id": "yTyTJ021SnWC"
      }
    }
  ]
}